{
 "cells": [
  {
   "cell_type": "raw",
   "id": "4a190860",
   "metadata": {},
   "source": [
    "WEB SCRAPING – ASSIGNMENT 2"
   ]
  },
  {
   "cell_type": "raw",
   "id": "ad26fa54",
   "metadata": {},
   "source": [
    "Q1: Write a python program to scrape data for “Data Analyst” Job position in “Bangalore” location. You\n",
    "have to scrape the job-title, job-location, company_name, experience_required. You have to scrape first 10\n",
    "jobs data.\n",
    "This task will be done in following steps:\n",
    "1. First get the webpage https://www.naukri.com/\n",
    "2. Enter “Data Analyst” in “Skill, Designations, Companies” field and enter “Bangalore” in “enter the\n",
    "location” field.\n",
    "3. Then click the searchbutton.\n",
    "4. Then scrape the data for the first 10 jobs results you get.\n",
    "5. Finally create a dataframe of the scraped data."
   ]
  },
  {
   "cell_type": "code",
   "execution_count": 1,
   "id": "f02571a1",
   "metadata": {},
   "outputs": [
    {
     "name": "stdout",
     "output_type": "stream",
     "text": [
      "Requirement already satisfied: selenium in c:\\users\\teddynino\\anaconda3\\lib\\site-packages (4.8.0)\n",
      "Requirement already satisfied: certifi>=2021.10.8 in c:\\users\\teddynino\\anaconda3\\lib\\site-packages (from selenium) (2021.10.8)\n",
      "Requirement already satisfied: trio-websocket~=0.9 in c:\\users\\teddynino\\anaconda3\\lib\\site-packages (from selenium) (0.9.2)\n",
      "Requirement already satisfied: urllib3[socks]~=1.26 in c:\\users\\teddynino\\anaconda3\\lib\\site-packages (from selenium) (1.26.9)\n",
      "Requirement already satisfied: trio~=0.17 in c:\\users\\teddynino\\anaconda3\\lib\\site-packages (from selenium) (0.22.0)\n",
      "Requirement already satisfied: cffi>=1.14 in c:\\users\\teddynino\\anaconda3\\lib\\site-packages (from trio~=0.17->selenium) (1.15.0)\n",
      "Requirement already satisfied: async-generator>=1.9 in c:\\users\\teddynino\\anaconda3\\lib\\site-packages (from trio~=0.17->selenium) (1.10)\n",
      "Requirement already satisfied: sniffio in c:\\users\\teddynino\\anaconda3\\lib\\site-packages (from trio~=0.17->selenium) (1.2.0)\n",
      "Requirement already satisfied: outcome in c:\\users\\teddynino\\anaconda3\\lib\\site-packages (from trio~=0.17->selenium) (1.2.0)\n",
      "Requirement already satisfied: attrs>=19.2.0 in c:\\users\\teddynino\\anaconda3\\lib\\site-packages (from trio~=0.17->selenium) (21.4.0)\n",
      "Requirement already satisfied: exceptiongroup>=1.0.0rc9 in c:\\users\\teddynino\\anaconda3\\lib\\site-packages (from trio~=0.17->selenium) (1.1.0)\n",
      "Requirement already satisfied: sortedcontainers in c:\\users\\teddynino\\anaconda3\\lib\\site-packages (from trio~=0.17->selenium) (2.4.0)\n",
      "Requirement already satisfied: idna in c:\\users\\teddynino\\anaconda3\\lib\\site-packages (from trio~=0.17->selenium) (3.3)\n",
      "Requirement already satisfied: pycparser in c:\\users\\teddynino\\anaconda3\\lib\\site-packages (from cffi>=1.14->trio~=0.17->selenium) (2.21)\n",
      "Requirement already satisfied: wsproto>=0.14 in c:\\users\\teddynino\\anaconda3\\lib\\site-packages (from trio-websocket~=0.9->selenium) (1.2.0)\n",
      "Requirement already satisfied: PySocks!=1.5.7,<2.0,>=1.5.6 in c:\\users\\teddynino\\anaconda3\\lib\\site-packages (from urllib3[socks]~=1.26->selenium) (1.7.1)\n",
      "Requirement already satisfied: h11<1,>=0.9.0 in c:\\users\\teddynino\\anaconda3\\lib\\site-packages (from wsproto>=0.14->trio-websocket~=0.9->selenium) (0.14.0)\n"
     ]
    }
   ],
   "source": [
    "#install selinum\n",
    "!pip install selenium"
   ]
  },
  {
   "cell_type": "code",
   "execution_count": 1,
   "id": "ab95ecbe",
   "metadata": {},
   "outputs": [],
   "source": [
    "#import header files\n",
    "import selenium\n",
    "import pandas as pd\n",
    "from selenium import webdriver\n",
    "import warnings\n",
    "warnings.filterwarnings(\"ignore\")\n",
    "from selenium.common.exceptions import StaleElementReferenceException,NoSuchElementException\n",
    "from selenium.webdriver.common.by import By\n",
    "import time"
   ]
  },
  {
   "cell_type": "code",
   "execution_count": 2,
   "id": "3f91d3e8",
   "metadata": {},
   "outputs": [],
   "source": [
    "#access crome driver\n",
    "driver=webdriver.Chrome(r\"chromedriver.exe\")"
   ]
  },
  {
   "cell_type": "code",
   "execution_count": 3,
   "id": "61cbf2aa",
   "metadata": {},
   "outputs": [],
   "source": [
    "#visiting website\n",
    "driver.get(\"https://www.naukri.com/\")"
   ]
  },
  {
   "cell_type": "code",
   "execution_count": 4,
   "id": "3dd5d88c",
   "metadata": {},
   "outputs": [],
   "source": [
    "#send data\n",
    "desg=driver.find_element(By.CLASS_NAME,\"suggestor-input \")\n",
    "desg.send_keys(\"Data Analyst\")"
   ]
  },
  {
   "cell_type": "code",
   "execution_count": 5,
   "id": "394e46b4",
   "metadata": {},
   "outputs": [],
   "source": [
    "loc=driver.find_element(By.XPATH,\"/html/body/div[1]/div[6]/div/div/div[5]/div/div/div/input\")\n",
    "loc.send_keys(\"Banglore\")"
   ]
  },
  {
   "cell_type": "code",
   "execution_count": 6,
   "id": "cefb9b81",
   "metadata": {},
   "outputs": [],
   "source": [
    "#click search\n",
    "search=driver.find_element(By.CLASS_NAME,\"qsbSubmit\")\n",
    "search.click()"
   ]
  },
  {
   "cell_type": "code",
   "execution_count": 166,
   "id": "8b8063e7",
   "metadata": {},
   "outputs": [],
   "source": [
    "#create empty array\n",
    "titles=[]\n",
    "location=[]\n",
    "company=[]\n",
    "experience=[]\n",
    "\n"
   ]
  },
  {
   "cell_type": "code",
   "execution_count": 167,
   "id": "e878f25b",
   "metadata": {},
   "outputs": [],
   "source": [
    "#retrive required data\n",
    "tit=driver.find_elements(By.XPATH,'//a[@class=\"title ellipsis\"]')\n",
    "for i in tit[0:10]:\n",
    "    tit=i.text\n",
    "    titles.append(tit)"
   ]
  },
  {
   "cell_type": "code",
   "execution_count": 168,
   "id": "6b89585c",
   "metadata": {},
   "outputs": [],
   "source": [
    "loc=driver.find_elements(By.XPATH,'//span[@title=\"Bangalore/Bengaluru \"]')\n",
    "for i in loc[0:10]:\n",
    "    loc=i.text\n",
    "    location.append(loc)"
   ]
  },
  {
   "cell_type": "code",
   "execution_count": 169,
   "id": "548e8856",
   "metadata": {},
   "outputs": [],
   "source": [
    "com=driver.find_elements(By.XPATH,'//a[@class=\"subTitle ellipsis fleft\"]')\n",
    "for i in com[0:10]:\n",
    "    com=i.text\n",
    "    company.append(com)"
   ]
  },
  {
   "cell_type": "code",
   "execution_count": 170,
   "id": "431f5cee",
   "metadata": {},
   "outputs": [],
   "source": [
    "exp=driver.find_elements(By.XPATH,'//span[@title=\"Bangalore/Bengaluru \"]')\n",
    "for i in exp[0:10]:\n",
    "    exp=i.text\n",
    "    experience.append(exp)"
   ]
  },
  {
   "cell_type": "code",
   "execution_count": 171,
   "id": "a83b814c",
   "metadata": {},
   "outputs": [
    {
     "name": "stdout",
     "output_type": "stream",
     "text": [
      "10 10 10 10\n"
     ]
    }
   ],
   "source": [
    "#check length\n",
    "print(len(titles),len(location),len(company),len(experience))"
   ]
  },
  {
   "cell_type": "code",
   "execution_count": 172,
   "id": "ee13b4ed",
   "metadata": {},
   "outputs": [
    {
     "data": {
      "text/html": [
       "<div>\n",
       "<style scoped>\n",
       "    .dataframe tbody tr th:only-of-type {\n",
       "        vertical-align: middle;\n",
       "    }\n",
       "\n",
       "    .dataframe tbody tr th {\n",
       "        vertical-align: top;\n",
       "    }\n",
       "\n",
       "    .dataframe thead th {\n",
       "        text-align: right;\n",
       "    }\n",
       "</style>\n",
       "<table border=\"1\" class=\"dataframe\">\n",
       "  <thead>\n",
       "    <tr style=\"text-align: right;\">\n",
       "      <th></th>\n",
       "      <th>titles</th>\n",
       "      <th>location</th>\n",
       "      <th>company_name</th>\n",
       "      <th>experience</th>\n",
       "    </tr>\n",
       "  </thead>\n",
       "  <tbody>\n",
       "    <tr>\n",
       "      <th>0</th>\n",
       "      <td>Data Analyst</td>\n",
       "      <td>Bangalore/Bengaluru</td>\n",
       "      <td>Entrupy</td>\n",
       "      <td>Bangalore/Bengaluru</td>\n",
       "    </tr>\n",
       "    <tr>\n",
       "      <th>1</th>\n",
       "      <td>Data Analyst</td>\n",
       "      <td>Bangalore/Bengaluru</td>\n",
       "      <td>EY</td>\n",
       "      <td>Bangalore/Bengaluru</td>\n",
       "    </tr>\n",
       "    <tr>\n",
       "      <th>2</th>\n",
       "      <td>Data Analyst</td>\n",
       "      <td>Bangalore/Bengaluru</td>\n",
       "      <td>What Digital Technologies</td>\n",
       "      <td>Bangalore/Bengaluru</td>\n",
       "    </tr>\n",
       "    <tr>\n",
       "      <th>3</th>\n",
       "      <td>Data Analyst</td>\n",
       "      <td>Bangalore/Bengaluru</td>\n",
       "      <td>Siemens</td>\n",
       "      <td>Bangalore/Bengaluru</td>\n",
       "    </tr>\n",
       "    <tr>\n",
       "      <th>4</th>\n",
       "      <td>Data Analyst</td>\n",
       "      <td>Bangalore/Bengaluru</td>\n",
       "      <td>Aon</td>\n",
       "      <td>Bangalore/Bengaluru</td>\n",
       "    </tr>\n",
       "    <tr>\n",
       "      <th>5</th>\n",
       "      <td>Data Analyst</td>\n",
       "      <td>Bangalore/Bengaluru</td>\n",
       "      <td>Excellence And Eminence Llp</td>\n",
       "      <td>Bangalore/Bengaluru</td>\n",
       "    </tr>\n",
       "    <tr>\n",
       "      <th>6</th>\n",
       "      <td>Data Analyst</td>\n",
       "      <td>Bangalore/Bengaluru</td>\n",
       "      <td>Quess It Staffing</td>\n",
       "      <td>Bangalore/Bengaluru</td>\n",
       "    </tr>\n",
       "    <tr>\n",
       "      <th>7</th>\n",
       "      <td>Data Analyst - EdTech</td>\n",
       "      <td>Bangalore/Bengaluru</td>\n",
       "      <td>Talentstack Consulting</td>\n",
       "      <td>Bangalore/Bengaluru</td>\n",
       "    </tr>\n",
       "    <tr>\n",
       "      <th>8</th>\n",
       "      <td>Data Analyst</td>\n",
       "      <td>Bangalore/Bengaluru</td>\n",
       "      <td>Staffice Global</td>\n",
       "      <td>Bangalore/Bengaluru</td>\n",
       "    </tr>\n",
       "    <tr>\n",
       "      <th>9</th>\n",
       "      <td>Data Analyst</td>\n",
       "      <td>Bangalore/Bengaluru</td>\n",
       "      <td>Qualitest</td>\n",
       "      <td>Bangalore/Bengaluru</td>\n",
       "    </tr>\n",
       "  </tbody>\n",
       "</table>\n",
       "</div>"
      ],
      "text/plain": [
       "                  titles             location                 company_name  \\\n",
       "0           Data Analyst  Bangalore/Bengaluru                      Entrupy   \n",
       "1           Data Analyst  Bangalore/Bengaluru                           EY   \n",
       "2           Data Analyst  Bangalore/Bengaluru    What Digital Technologies   \n",
       "3           Data Analyst  Bangalore/Bengaluru                      Siemens   \n",
       "4           Data Analyst  Bangalore/Bengaluru                          Aon   \n",
       "5           Data Analyst  Bangalore/Bengaluru  Excellence And Eminence Llp   \n",
       "6           Data Analyst  Bangalore/Bengaluru            Quess It Staffing   \n",
       "7  Data Analyst - EdTech  Bangalore/Bengaluru       Talentstack Consulting   \n",
       "8           Data Analyst  Bangalore/Bengaluru              Staffice Global   \n",
       "9           Data Analyst  Bangalore/Bengaluru                    Qualitest   \n",
       "\n",
       "            experience  \n",
       "0  Bangalore/Bengaluru  \n",
       "1  Bangalore/Bengaluru  \n",
       "2  Bangalore/Bengaluru  \n",
       "3  Bangalore/Bengaluru  \n",
       "4  Bangalore/Bengaluru  \n",
       "5  Bangalore/Bengaluru  \n",
       "6  Bangalore/Bengaluru  \n",
       "7  Bangalore/Bengaluru  \n",
       "8  Bangalore/Bengaluru  \n",
       "9  Bangalore/Bengaluru  "
      ]
     },
     "execution_count": 172,
     "metadata": {},
     "output_type": "execute_result"
    }
   ],
   "source": [
    "#dataframe\n",
    "import pandas as pd\n",
    "d1=pd.DataFrame({\"titles\":titles[0:10],\"location\":location[0:10],\"company_name\":company[0:10],\"experience\":experience[0:10]})\n",
    "d1"
   ]
  },
  {
   "cell_type": "raw",
   "id": "3e319793",
   "metadata": {},
   "source": [
    "Q2:Write a python program to scrape data for “Data Scientist” Job position in “Bangalore” location. You\n",
    "have to scrape the job-title, job-location, company_name. You have to scrape first 10 jobs data.\n",
    "This task will be done in following steps:\n",
    "1. First get the webpage https://www.naukri.com/\n",
    "2. Enter “Data Scientist” in “Skill, Designations, Companies” field and enter “Bangalore” in “enter the\n",
    "location” field.\n",
    "3. Then click the searchbutton.\n",
    "4. Then scrape the data for the first 10 jobs results youget.\n",
    "5. Finally create a dataframe of the scraped data.\n"
   ]
  },
  {
   "cell_type": "code",
   "execution_count": 55,
   "id": "80e0bc88",
   "metadata": {},
   "outputs": [],
   "source": [
    "#import header file\n",
    "import selenium\n",
    "import pandas as pd\n",
    "from selenium import webdriver\n",
    "import warnings\n",
    "warnings.filterwarnings(\"ignore\")\n",
    "from selenium.common.exceptions import StaleElementReferenceException,NoSuchElementException\n",
    "from selenium.webdriver.common.by import By\n",
    "import time"
   ]
  },
  {
   "cell_type": "code",
   "execution_count": 202,
   "id": "c2dfa42e",
   "metadata": {},
   "outputs": [],
   "source": [
    "#acess driver\n",
    "driver=webdriver.Chrome(r\"chromedriver.exe\")"
   ]
  },
  {
   "cell_type": "code",
   "execution_count": 203,
   "id": "a9d2e00f",
   "metadata": {},
   "outputs": [],
   "source": [
    "#open site\n",
    "driver.get(\"https://www.naukri.com/\")"
   ]
  },
  {
   "cell_type": "code",
   "execution_count": 204,
   "id": "bbdc9ff1",
   "metadata": {},
   "outputs": [],
   "source": [
    "#send data\n",
    "skill=driver.find_element(By.CLASS_NAME,'suggestor-input ')\n",
    "skill.send_keys(\"Data Scientist\")"
   ]
  },
  {
   "cell_type": "code",
   "execution_count": 205,
   "id": "bc2b32f6",
   "metadata": {},
   "outputs": [],
   "source": [
    "place=driver.find_element(By.XPATH, '/html/body/div[1]/div[6]/div/div/div[5]/div/div/div/input')\n",
    "place.send_keys(\"Bangalore\")"
   ]
  },
  {
   "cell_type": "code",
   "execution_count": 206,
   "id": "0c88f2db",
   "metadata": {},
   "outputs": [],
   "source": [
    "#click search\n",
    "search=driver.find_element(By.CLASS_NAME,'qsbSubmit')\n",
    "search.click()"
   ]
  },
  {
   "cell_type": "code",
   "execution_count": 207,
   "id": "12834568",
   "metadata": {},
   "outputs": [],
   "source": [
    "#empty array\n",
    "titles=[]\n",
    "location=[]\n",
    "company=[]\n",
    "experience=[]\n"
   ]
  },
  {
   "cell_type": "code",
   "execution_count": 208,
   "id": "653888f7",
   "metadata": {},
   "outputs": [],
   "source": [
    "#access and retrive data\n",
    "tit=driver.find_elements(By.XPATH,'//a[@class=\"title ellipsis\"]')\n",
    "for i in tit[0:10]:\n",
    "    tit=i.text\n",
    "    titles.append(tit)\n",
    "\n"
   ]
  },
  {
   "cell_type": "code",
   "execution_count": 211,
   "id": "89e8d7fe",
   "metadata": {},
   "outputs": [],
   "source": [
    "loc=driver.find_elements(By.XPATH,'//span[@class=\"ellipsis fleft locWdth\"]')\n",
    "for i in loc[0:10]:\n",
    "    loc=i.text\n",
    "    location.append(loc)\n"
   ]
  },
  {
   "cell_type": "code",
   "execution_count": 214,
   "id": "cff0c26a",
   "metadata": {},
   "outputs": [],
   "source": [
    "com=driver.find_elements(By.XPATH,'//a[@class=\"subTitle ellipsis fleft\"]')\n",
    "for i in com[0:10]:\n",
    "    com=i.text\n",
    "    company.append(com)"
   ]
  },
  {
   "cell_type": "code",
   "execution_count": 212,
   "id": "608770cd",
   "metadata": {},
   "outputs": [],
   "source": [
    "exp=driver.find_elements(By.XPATH,'//span[@class=\"ellipsis fleft expwdth\"]')\n",
    "for i in exp[0:10]:\n",
    "    exp=i.text\n",
    "    experience.append(exp)"
   ]
  },
  {
   "cell_type": "code",
   "execution_count": 215,
   "id": "a0c61b94",
   "metadata": {},
   "outputs": [
    {
     "name": "stdout",
     "output_type": "stream",
     "text": [
      "10 10 10 10\n"
     ]
    }
   ],
   "source": [
    "#get lenth\n",
    "print(len(titles[0:10]),len(location[0:10]),len(company[0:10]),len(experience[0:10]))"
   ]
  },
  {
   "cell_type": "code",
   "execution_count": 216,
   "id": "7a2f1a41",
   "metadata": {},
   "outputs": [
    {
     "data": {
      "text/html": [
       "<div>\n",
       "<style scoped>\n",
       "    .dataframe tbody tr th:only-of-type {\n",
       "        vertical-align: middle;\n",
       "    }\n",
       "\n",
       "    .dataframe tbody tr th {\n",
       "        vertical-align: top;\n",
       "    }\n",
       "\n",
       "    .dataframe thead th {\n",
       "        text-align: right;\n",
       "    }\n",
       "</style>\n",
       "<table border=\"1\" class=\"dataframe\">\n",
       "  <thead>\n",
       "    <tr style=\"text-align: right;\">\n",
       "      <th></th>\n",
       "      <th>titles</th>\n",
       "      <th>location</th>\n",
       "      <th>company_name</th>\n",
       "      <th>experience</th>\n",
       "    </tr>\n",
       "  </thead>\n",
       "  <tbody>\n",
       "    <tr>\n",
       "      <th>0</th>\n",
       "      <td>Data Science Specialist</td>\n",
       "      <td>Bangalore/Bengaluru, Kolkata, Mumbai, Hyderaba...</td>\n",
       "      <td>Accenture</td>\n",
       "      <td>2-4 Yrs</td>\n",
       "    </tr>\n",
       "    <tr>\n",
       "      <th>1</th>\n",
       "      <td>Analystics &amp; Modeling Specialist</td>\n",
       "      <td>Bangalore/Bengaluru, Kolkata, Mumbai, Hyderaba...</td>\n",
       "      <td>Accenture</td>\n",
       "      <td>6-8 Yrs</td>\n",
       "    </tr>\n",
       "    <tr>\n",
       "      <th>2</th>\n",
       "      <td>Data Scientist</td>\n",
       "      <td>Bangalore/Bengaluru, Kolkata, Mumbai, Hyderaba...</td>\n",
       "      <td>Cognizant</td>\n",
       "      <td>8-10 Yrs</td>\n",
       "    </tr>\n",
       "    <tr>\n",
       "      <th>3</th>\n",
       "      <td>Sr. Data scientist</td>\n",
       "      <td>Bangalore/Bengaluru, Kolkata, Mumbai, Hyderaba...</td>\n",
       "      <td>Tata Consultancy Services (TCS)</td>\n",
       "      <td>7-12 Yrs</td>\n",
       "    </tr>\n",
       "    <tr>\n",
       "      <th>4</th>\n",
       "      <td>Data Scientist</td>\n",
       "      <td>Hybrid - Bangalore/Bengaluru, Kolkata, Hyderab...</td>\n",
       "      <td>Capgemini</td>\n",
       "      <td>9-14 Yrs</td>\n",
       "    </tr>\n",
       "    <tr>\n",
       "      <th>5</th>\n",
       "      <td>Expert Data Scientist</td>\n",
       "      <td>Bangalore/Bengaluru, Hyderabad/Secunderabad, M...</td>\n",
       "      <td>UPL Limited</td>\n",
       "      <td>8-10 Yrs</td>\n",
       "    </tr>\n",
       "    <tr>\n",
       "      <th>6</th>\n",
       "      <td>Lead Data Scientist</td>\n",
       "      <td>Bangalore/Bengaluru, Noida, Kolkata, Mumbai, H...</td>\n",
       "      <td>Birlasoft</td>\n",
       "      <td>8-12 Yrs</td>\n",
       "    </tr>\n",
       "    <tr>\n",
       "      <th>7</th>\n",
       "      <td>Lead Artificial Intelligence Specialist</td>\n",
       "      <td>Bangalore/Bengaluru, Mumbai</td>\n",
       "      <td>Baker Hughes</td>\n",
       "      <td>5-10 Yrs</td>\n",
       "    </tr>\n",
       "    <tr>\n",
       "      <th>8</th>\n",
       "      <td>Lead data scientist</td>\n",
       "      <td>Bangalore/Bengaluru, Noida, Hyderabad/Secunder...</td>\n",
       "      <td>Siemens</td>\n",
       "      <td>8-10 Yrs</td>\n",
       "    </tr>\n",
       "    <tr>\n",
       "      <th>9</th>\n",
       "      <td>Senior Director/Head - Data Science &amp; Analytics</td>\n",
       "      <td>Bangalore/Bengaluru</td>\n",
       "      <td>Vertex Corporate</td>\n",
       "      <td>20-25 Yrs</td>\n",
       "    </tr>\n",
       "  </tbody>\n",
       "</table>\n",
       "</div>"
      ],
      "text/plain": [
       "                                            titles  \\\n",
       "0                          Data Science Specialist   \n",
       "1                 Analystics & Modeling Specialist   \n",
       "2                                   Data Scientist   \n",
       "3                               Sr. Data scientist   \n",
       "4                                   Data Scientist   \n",
       "5                            Expert Data Scientist   \n",
       "6                              Lead Data Scientist   \n",
       "7          Lead Artificial Intelligence Specialist   \n",
       "8                              Lead data scientist   \n",
       "9  Senior Director/Head - Data Science & Analytics   \n",
       "\n",
       "                                            location  \\\n",
       "0  Bangalore/Bengaluru, Kolkata, Mumbai, Hyderaba...   \n",
       "1  Bangalore/Bengaluru, Kolkata, Mumbai, Hyderaba...   \n",
       "2  Bangalore/Bengaluru, Kolkata, Mumbai, Hyderaba...   \n",
       "3  Bangalore/Bengaluru, Kolkata, Mumbai, Hyderaba...   \n",
       "4  Hybrid - Bangalore/Bengaluru, Kolkata, Hyderab...   \n",
       "5  Bangalore/Bengaluru, Hyderabad/Secunderabad, M...   \n",
       "6  Bangalore/Bengaluru, Noida, Kolkata, Mumbai, H...   \n",
       "7                        Bangalore/Bengaluru, Mumbai   \n",
       "8  Bangalore/Bengaluru, Noida, Hyderabad/Secunder...   \n",
       "9                                Bangalore/Bengaluru   \n",
       "\n",
       "                      company_name experience  \n",
       "0                        Accenture    2-4 Yrs  \n",
       "1                        Accenture    6-8 Yrs  \n",
       "2                        Cognizant   8-10 Yrs  \n",
       "3  Tata Consultancy Services (TCS)   7-12 Yrs  \n",
       "4                        Capgemini   9-14 Yrs  \n",
       "5                      UPL Limited   8-10 Yrs  \n",
       "6                        Birlasoft   8-12 Yrs  \n",
       "7                     Baker Hughes   5-10 Yrs  \n",
       "8                          Siemens   8-10 Yrs  \n",
       "9                 Vertex Corporate  20-25 Yrs  "
      ]
     },
     "execution_count": 216,
     "metadata": {},
     "output_type": "execute_result"
    }
   ],
   "source": [
    "#print in datafframe\n",
    "import pandas as pd\n",
    "d2=pd.DataFrame({\"titles\":titles[0:10],\"location\":location[0:10],\"company_name\":company[0:10],\"experience\":experience[0:10]})\n",
    "d2"
   ]
  },
  {
   "cell_type": "code",
   "execution_count": null,
   "id": "afe016a7",
   "metadata": {},
   "outputs": [],
   "source": [
    "Q3: In this question you have to scrape data using the filters available on the webpage as shown below:\n",
    "        You have to use the location and salary filter.\n",
    "You have to scrape data for “Data Scientist” designation for first 10 job results.\n",
    "You have to scrape the job-title, job-location, company name, experience required.\n",
    "The location filter to be used is “Delhi/NCR”. The salary filter to be used is “3-6” lakhs\n",
    "The task will be done as shown in the below steps:\n",
    "1. first get thewebpage https://www.naukri.com/\n",
    "2. Enter “Data Scientist” in “Skill, Designations, and Companies” field.\n",
    "3. Then click the searchbutton.\n",
    "4. Then apply the location filter and salary filter by checking the respective boxes\n",
    "5. Then scrape the data for the first 10 jobs results youget.\n",
    "6. Finally create a dataframe of the scraped data."
   ]
  },
  {
   "cell_type": "code",
   "execution_count": 7,
   "id": "0d1ea10e",
   "metadata": {},
   "outputs": [],
   "source": [
    "#import header files\n",
    "import selenium\n",
    "import pandas as pd\n",
    "from selenium import webdriver\n",
    "import warnings\n",
    "warnings.filterwarnings(\"ignore\")\n",
    "from selenium.common.exceptions import StaleElementReferenceException,NoSuchElementException\n",
    "from selenium.webdriver.common.by import By\n",
    "import time"
   ]
  },
  {
   "cell_type": "code",
   "execution_count": 8,
   "id": "534e66f2",
   "metadata": {},
   "outputs": [],
   "source": [
    "#open chrome\n",
    "driver=webdriver.Chrome(r\"chromedriver.exe\")"
   ]
  },
  {
   "cell_type": "code",
   "execution_count": 9,
   "id": "00f51e83",
   "metadata": {},
   "outputs": [],
   "source": [
    "#open site\n",
    "driver.get(\"https://www.naukri.com/\")"
   ]
  },
  {
   "cell_type": "code",
   "execution_count": 10,
   "id": "226972ea",
   "metadata": {},
   "outputs": [],
   "source": [
    "#send data\n",
    "skill=driver.find_element(By.CLASS_NAME,'suggestor-input ')\n",
    "skill.send_keys(\"Data Scientist\")"
   ]
  },
  {
   "cell_type": "code",
   "execution_count": 11,
   "id": "c682bc2c",
   "metadata": {},
   "outputs": [],
   "source": [
    "#click search\n",
    "search=driver.find_element(By.CLASS_NAME,'qsbSubmit')\n",
    "search.click()"
   ]
  },
  {
   "cell_type": "code",
   "execution_count": 12,
   "id": "cd99f544",
   "metadata": {},
   "outputs": [],
   "source": [
    "#apply filter\n",
    "checkbox=driver.find_element(By.XPATH,'/html/body/div[1]/div[4]/div/div/section[1]/div[2]/div[5]/div[2]/div[2]/label/p/span[1]')\n",
    "checkbox.click()"
   ]
  },
  {
   "cell_type": "code",
   "execution_count": null,
   "id": "5fb8893e",
   "metadata": {},
   "outputs": [],
   "source": [
    "checkbox1=driver.find_element(By.XPATH,'/html/body/div[1]/div[4]/div/div/section[1]/div[2]/div[6]/div[2]/div[2]/label/p/span[1]')\n",
    "checkbox1.click()"
   ]
  },
  {
   "cell_type": "code",
   "execution_count": null,
   "id": "91b44239",
   "metadata": {},
   "outputs": [],
   "source": [
    "#empty array\n",
    "titles=[]\n",
    "location=[]\n",
    "company=[]\n",
    "experience=[]\n"
   ]
  },
  {
   "cell_type": "code",
   "execution_count": 250,
   "id": "9c5ec811",
   "metadata": {},
   "outputs": [],
   "source": [
    "#access and retrive data\n",
    "tit=driver.find_elements(By.XPATH,'//a[@class=\"title ellipsis\"]')\n",
    "for i in tit[0:10]:\n",
    "    tit=i.text\n",
    "    titles.append(tit)\n",
    "\n"
   ]
  },
  {
   "cell_type": "code",
   "execution_count": 245,
   "id": "f483fda1",
   "metadata": {},
   "outputs": [],
   "source": [
    "loc=driver.find_elements(By.XPATH,'//span[@class=\"ellipsis fleft locWdth\"]')\n",
    "for i in loc[0:10]:\n",
    "    loc=i.text\n",
    "    location.append(loc)\n"
   ]
  },
  {
   "cell_type": "code",
   "execution_count": 246,
   "id": "73c361da",
   "metadata": {},
   "outputs": [],
   "source": [
    "com=driver.find_elements(By.XPATH,'//a[@class=\"subTitle ellipsis fleft\"]')\n",
    "for i in com[0:10]:\n",
    "    com=i.text\n",
    "    company.append(com)"
   ]
  },
  {
   "cell_type": "code",
   "execution_count": 247,
   "id": "857b9a58",
   "metadata": {},
   "outputs": [],
   "source": [
    "exp=driver.find_elements(By.XPATH,'//span[@class=\"ellipsis fleft expwdth\"]')\n",
    "for i in exp[0:10]:\n",
    "    exp=i.text\n",
    "    experience.append(exp)"
   ]
  },
  {
   "cell_type": "code",
   "execution_count": 248,
   "id": "a887ae4c",
   "metadata": {},
   "outputs": [
    {
     "name": "stdout",
     "output_type": "stream",
     "text": [
      "10 10 10 10\n"
     ]
    }
   ],
   "source": [
    "#Check length\n",
    "print(len(titles[0:10]),len(location[0:10]),len(company[0:10]),len(experience[0:10]))"
   ]
  },
  {
   "cell_type": "code",
   "execution_count": 249,
   "id": "61d5d8ff",
   "metadata": {},
   "outputs": [
    {
     "data": {
      "text/html": [
       "<div>\n",
       "<style scoped>\n",
       "    .dataframe tbody tr th:only-of-type {\n",
       "        vertical-align: middle;\n",
       "    }\n",
       "\n",
       "    .dataframe tbody tr th {\n",
       "        vertical-align: top;\n",
       "    }\n",
       "\n",
       "    .dataframe thead th {\n",
       "        text-align: right;\n",
       "    }\n",
       "</style>\n",
       "<table border=\"1\" class=\"dataframe\">\n",
       "  <thead>\n",
       "    <tr style=\"text-align: right;\">\n",
       "      <th></th>\n",
       "      <th>titles</th>\n",
       "      <th>location</th>\n",
       "      <th>company_name</th>\n",
       "      <th>experience</th>\n",
       "    </tr>\n",
       "  </thead>\n",
       "  <tbody>\n",
       "    <tr>\n",
       "      <th>0</th>\n",
       "      <td>Data Scientist data Analyst</td>\n",
       "      <td>Delhi / NCR, Kolkata, Hyderabad/Secunderabad, ...</td>\n",
       "      <td>Smark Laser Automation</td>\n",
       "      <td>0-5 Yrs</td>\n",
       "    </tr>\n",
       "    <tr>\n",
       "      <th>1</th>\n",
       "      <td>Data Scientist - Engine Algorithm</td>\n",
       "      <td>Delhi / NCR, Kolkata, Mumbai, Hyderabad/Secund...</td>\n",
       "      <td>Primo Hiring</td>\n",
       "      <td>1-3 Yrs</td>\n",
       "    </tr>\n",
       "    <tr>\n",
       "      <th>2</th>\n",
       "      <td>Analyst-Data Science</td>\n",
       "      <td>Gurgaon/Gurugram</td>\n",
       "      <td>AMERICAN EXPRESS</td>\n",
       "      <td>0-3 Yrs</td>\n",
       "    </tr>\n",
       "    <tr>\n",
       "      <th>3</th>\n",
       "      <td>Analyst-Data Science</td>\n",
       "      <td>Gurgaon/Gurugram</td>\n",
       "      <td>AMERICAN EXPRESS</td>\n",
       "      <td>0-3 Yrs</td>\n",
       "    </tr>\n",
       "    <tr>\n",
       "      <th>4</th>\n",
       "      <td>Senior Data Scientist - Statistics</td>\n",
       "      <td>Gurgaon/Gurugram</td>\n",
       "      <td>Optum</td>\n",
       "      <td>5-8 Yrs</td>\n",
       "    </tr>\n",
       "    <tr>\n",
       "      <th>5</th>\n",
       "      <td>Data Scientist</td>\n",
       "      <td>Delhi / NCR, Noida(Sector-136 Noida), Ghaziaba...</td>\n",
       "      <td>Extramarks Education</td>\n",
       "      <td>3-5 Yrs</td>\n",
       "    </tr>\n",
       "    <tr>\n",
       "      <th>6</th>\n",
       "      <td>Data Scientist</td>\n",
       "      <td>Gurgaon/Gurugram</td>\n",
       "      <td>Gartner India Research &amp;amp; Advisory Services...</td>\n",
       "      <td>2-7 Yrs</td>\n",
       "    </tr>\n",
       "    <tr>\n",
       "      <th>7</th>\n",
       "      <td>Associate Data Scientist - ML &amp; NLP</td>\n",
       "      <td>Gurgaon/Gurugram</td>\n",
       "      <td>Gartner India Research &amp;amp; Advisory Services...</td>\n",
       "      <td>2-4 Yrs</td>\n",
       "    </tr>\n",
       "    <tr>\n",
       "      <th>8</th>\n",
       "      <td>Data Scientist</td>\n",
       "      <td>Noida</td>\n",
       "      <td>Gujarat Fluorochemicals</td>\n",
       "      <td>1-2 Yrs</td>\n",
       "    </tr>\n",
       "    <tr>\n",
       "      <th>9</th>\n",
       "      <td>Data Scientist</td>\n",
       "      <td>Dehradun, Hyderabad/Secunderabad, Gurgaon/Guru...</td>\n",
       "      <td>Torcai Digital Media</td>\n",
       "      <td>2-7 Yrs</td>\n",
       "    </tr>\n",
       "  </tbody>\n",
       "</table>\n",
       "</div>"
      ],
      "text/plain": [
       "                                titles  \\\n",
       "0          Data Scientist data Analyst   \n",
       "1    Data Scientist - Engine Algorithm   \n",
       "2                 Analyst-Data Science   \n",
       "3                 Analyst-Data Science   \n",
       "4   Senior Data Scientist - Statistics   \n",
       "5                       Data Scientist   \n",
       "6                       Data Scientist   \n",
       "7  Associate Data Scientist - ML & NLP   \n",
       "8                       Data Scientist   \n",
       "9                       Data Scientist   \n",
       "\n",
       "                                            location  \\\n",
       "0  Delhi / NCR, Kolkata, Hyderabad/Secunderabad, ...   \n",
       "1  Delhi / NCR, Kolkata, Mumbai, Hyderabad/Secund...   \n",
       "2                                   Gurgaon/Gurugram   \n",
       "3                                   Gurgaon/Gurugram   \n",
       "4                                   Gurgaon/Gurugram   \n",
       "5  Delhi / NCR, Noida(Sector-136 Noida), Ghaziaba...   \n",
       "6                                   Gurgaon/Gurugram   \n",
       "7                                   Gurgaon/Gurugram   \n",
       "8                                              Noida   \n",
       "9  Dehradun, Hyderabad/Secunderabad, Gurgaon/Guru...   \n",
       "\n",
       "                                        company_name experience  \n",
       "0                             Smark Laser Automation    0-5 Yrs  \n",
       "1                                       Primo Hiring    1-3 Yrs  \n",
       "2                                   AMERICAN EXPRESS    0-3 Yrs  \n",
       "3                                   AMERICAN EXPRESS    0-3 Yrs  \n",
       "4                                              Optum    5-8 Yrs  \n",
       "5                               Extramarks Education    3-5 Yrs  \n",
       "6  Gartner India Research &amp; Advisory Services...    2-7 Yrs  \n",
       "7  Gartner India Research &amp; Advisory Services...    2-4 Yrs  \n",
       "8                            Gujarat Fluorochemicals    1-2 Yrs  \n",
       "9                               Torcai Digital Media    2-7 Yrs  "
      ]
     },
     "execution_count": 249,
     "metadata": {},
     "output_type": "execute_result"
    }
   ],
   "source": [
    "#create  Dataframe\n",
    "import pandas as pd\n",
    "d3=pd.DataFrame({\"titles\":titles[0:10],\"location\":location[0:10],\"company_name\":company[0:10],\"experience\":experience[0:10]})\n",
    "d3"
   ]
  },
  {
   "cell_type": "code",
   "execution_count": null,
   "id": "f1fc4e90",
   "metadata": {},
   "outputs": [],
   "source": []
  },
  {
   "cell_type": "raw",
   "id": "f8c05708",
   "metadata": {},
   "source": [
    " Scrape data of first 100 sunglasses listings on flipkart.com. You have to scrape four attributes:\n",
    "1. Brand\n",
    "2. ProductDescription\n",
    "3. Price\n"
   ]
  },
  {
   "cell_type": "code",
   "execution_count": 222,
   "id": "a72643b0",
   "metadata": {},
   "outputs": [],
   "source": [
    "#import header files\n",
    "import selenium\n",
    "import pandas as pd\n",
    "from selenium import webdriver\n",
    "import warnings\n",
    "warnings.filterwarnings(\"ignore\")\n",
    "from selenium.common.exceptions import StaleElementReferenceException,NoSuchElementException\n",
    "from selenium.webdriver.common.by import By\n",
    "import time"
   ]
  },
  {
   "cell_type": "code",
   "execution_count": 223,
   "id": "a97c644b",
   "metadata": {},
   "outputs": [],
   "source": [
    "#open chrome\n",
    "driver=webdriver.Chrome(r\"chromedriver.exe\")"
   ]
  },
  {
   "cell_type": "code",
   "execution_count": 224,
   "id": "fe702f1b",
   "metadata": {},
   "outputs": [],
   "source": [
    "#open site\n",
    "driver.get(\"https://www.flipkart.com/\")"
   ]
  },
  {
   "cell_type": "code",
   "execution_count": 225,
   "id": "093e32cf",
   "metadata": {},
   "outputs": [],
   "source": [
    "#pass data\n",
    "skill=driver.find_element(By.CLASS_NAME,'_3704LK ')\n",
    "skill.send_keys(\"Sunglasses\")"
   ]
  },
  {
   "cell_type": "code",
   "execution_count": 226,
   "id": "48b4cc0a",
   "metadata": {},
   "outputs": [],
   "source": [
    "#click search\n",
    "search=driver.find_element(By.XPATH,'/html/body/div/div/div[1]/div[1]/div[2]/div[2]/form/div/button')\n",
    "search.click()"
   ]
  },
  {
   "cell_type": "code",
   "execution_count": 227,
   "id": "5f26d6a8",
   "metadata": {},
   "outputs": [],
   "source": [
    "#empty arrat\n",
    "brand=[]\n",
    "description=[]\n",
    "price=[]\n"
   ]
  },
  {
   "cell_type": "code",
   "execution_count": 228,
   "id": "f3282150",
   "metadata": {},
   "outputs": [],
   "source": [
    "#acess and read data\n",
    "\n",
    "for l in range(0,30):\n",
    "\n",
    "    br=driver.find_elements(By.XPATH,'//div[@class=\"_2WkVRV\"]')\n",
    "    for i in br:\n",
    "        br=i.text\n",
    "        brand.append(br)\n",
    "    desc=driver.find_elements(By.XPATH,'//a[@class=\"IRpwTa\"]')\n",
    "    for i in desc:\n",
    "        desc=i.text\n",
    "        description.append(desc)\n",
    "    \n",
    "    pr=driver.find_elements(By.XPATH,'//div[@class=\"_30jeq3\"]')\n",
    "    for i in pr:\n",
    "        pr=i.text\n",
    "        price.append(pr)\n",
    "try:\n",
    "        nav=driver.find_element(By.XPATH,'/html/body/div[1]/div/div[3]/div[1]/div[2]/div[12]/div/div/nav/a[1]')\n",
    "        nav.click()\n",
    "except NoSuchElement as ex:\n",
    "        print(\"ex.message\")"
   ]
  },
  {
   "cell_type": "code",
   "execution_count": 230,
   "id": "2bc5091e",
   "metadata": {},
   "outputs": [
    {
     "name": "stdout",
     "output_type": "stream",
     "text": [
      "1200 1200 1200\n"
     ]
    }
   ],
   "source": [
    "#check length\n",
    "print(len(brand),len(description),len(price))"
   ]
  },
  {
   "cell_type": "code",
   "execution_count": 231,
   "id": "2d68f305",
   "metadata": {},
   "outputs": [
    {
     "data": {
      "text/html": [
       "<div>\n",
       "<style scoped>\n",
       "    .dataframe tbody tr th:only-of-type {\n",
       "        vertical-align: middle;\n",
       "    }\n",
       "\n",
       "    .dataframe tbody tr th {\n",
       "        vertical-align: top;\n",
       "    }\n",
       "\n",
       "    .dataframe thead th {\n",
       "        text-align: right;\n",
       "    }\n",
       "</style>\n",
       "<table border=\"1\" class=\"dataframe\">\n",
       "  <thead>\n",
       "    <tr style=\"text-align: right;\">\n",
       "      <th></th>\n",
       "      <th>brand</th>\n",
       "      <th>product description</th>\n",
       "      <th>price</th>\n",
       "    </tr>\n",
       "  </thead>\n",
       "  <tbody>\n",
       "    <tr>\n",
       "      <th>0</th>\n",
       "      <td>ROZZETTA CRAFT</td>\n",
       "      <td>UV Protection, Gradient Rectangular Sunglasses...</td>\n",
       "      <td>₹423</td>\n",
       "    </tr>\n",
       "    <tr>\n",
       "      <th>1</th>\n",
       "      <td>VINCENT CHASE</td>\n",
       "      <td>Polarized, UV Protection Round Sunglasses (50)</td>\n",
       "      <td>₹829</td>\n",
       "    </tr>\n",
       "    <tr>\n",
       "      <th>2</th>\n",
       "      <td>SRPM</td>\n",
       "      <td>UV Protection Wayfarer Sunglasses (50)</td>\n",
       "      <td>₹149</td>\n",
       "    </tr>\n",
       "    <tr>\n",
       "      <th>3</th>\n",
       "      <td>Fastrack</td>\n",
       "      <td>Gradient, UV Protection Wayfarer Sunglasses (F...</td>\n",
       "      <td>₹629</td>\n",
       "    </tr>\n",
       "    <tr>\n",
       "      <th>4</th>\n",
       "      <td>Elligator</td>\n",
       "      <td>UV Protection Cat-eye, Retro Square, Oval, Rou...</td>\n",
       "      <td>₹149</td>\n",
       "    </tr>\n",
       "    <tr>\n",
       "      <th>...</th>\n",
       "      <td>...</td>\n",
       "      <td>...</td>\n",
       "      <td>...</td>\n",
       "    </tr>\n",
       "    <tr>\n",
       "      <th>95</th>\n",
       "      <td>ROZZETTA CRAFT</td>\n",
       "      <td>UV Protection, Gradient Rectangular Sunglasses...</td>\n",
       "      <td>₹377</td>\n",
       "    </tr>\n",
       "    <tr>\n",
       "      <th>96</th>\n",
       "      <td>PIRASO</td>\n",
       "      <td>UV Protection Aviator Sunglasses (54)</td>\n",
       "      <td>₹208</td>\n",
       "    </tr>\n",
       "    <tr>\n",
       "      <th>97</th>\n",
       "      <td>PIRASO</td>\n",
       "      <td>UV Protection Clubmaster Sunglasses (54)</td>\n",
       "      <td>₹224</td>\n",
       "    </tr>\n",
       "    <tr>\n",
       "      <th>98</th>\n",
       "      <td>Elligator</td>\n",
       "      <td>UV Protection Round Sunglasses (53)</td>\n",
       "      <td>₹149</td>\n",
       "    </tr>\n",
       "    <tr>\n",
       "      <th>99</th>\n",
       "      <td>ROYAL SON</td>\n",
       "      <td>Others Retro Square Sunglasses (58)</td>\n",
       "      <td>₹499</td>\n",
       "    </tr>\n",
       "  </tbody>\n",
       "</table>\n",
       "<p>100 rows × 3 columns</p>\n",
       "</div>"
      ],
      "text/plain": [
       "             brand                                product description price\n",
       "0   ROZZETTA CRAFT  UV Protection, Gradient Rectangular Sunglasses...  ₹423\n",
       "1    VINCENT CHASE     Polarized, UV Protection Round Sunglasses (50)  ₹829\n",
       "2             SRPM             UV Protection Wayfarer Sunglasses (50)  ₹149\n",
       "3         Fastrack  Gradient, UV Protection Wayfarer Sunglasses (F...  ₹629\n",
       "4        Elligator  UV Protection Cat-eye, Retro Square, Oval, Rou...  ₹149\n",
       "..             ...                                                ...   ...\n",
       "95  ROZZETTA CRAFT  UV Protection, Gradient Rectangular Sunglasses...  ₹377\n",
       "96          PIRASO              UV Protection Aviator Sunglasses (54)  ₹208\n",
       "97          PIRASO           UV Protection Clubmaster Sunglasses (54)  ₹224\n",
       "98       Elligator                UV Protection Round Sunglasses (53)  ₹149\n",
       "99       ROYAL SON                Others Retro Square Sunglasses (58)  ₹499\n",
       "\n",
       "[100 rows x 3 columns]"
      ]
     },
     "execution_count": 231,
     "metadata": {},
     "output_type": "execute_result"
    }
   ],
   "source": [
    "#create dataframe\n",
    "d4=pd.DataFrame({\"brand\":brand[0:100],\"product description\":description[0:100],\"price\":price[0:100]})\n",
    "d4"
   ]
  },
  {
   "cell_type": "code",
   "execution_count": null,
   "id": "5bfacb2a",
   "metadata": {},
   "outputs": [],
   "source": [
    "#import headers"
   ]
  },
  {
   "cell_type": "code",
   "execution_count": 233,
   "id": "98ca3389",
   "metadata": {},
   "outputs": [],
   "source": [
    "import selenium\n",
    "import pandas as pd\n",
    "from selenium import webdriver\n",
    "import warnings\n",
    "warnings.filterwarnings(\"ignore\")\n",
    "from selenium.common.exceptions import StaleElementReferenceException,NoSuchElementException\n",
    "from selenium.webdriver.common.by import By\n",
    "import time"
   ]
  },
  {
   "cell_type": "code",
   "execution_count": 234,
   "id": "00a4f34d",
   "metadata": {},
   "outputs": [],
   "source": [
    "#open chrome\n",
    "driver=webdriver.Chrome(r\"chromedriver.exe\")"
   ]
  },
  {
   "cell_type": "code",
   "execution_count": 235,
   "id": "4ebae0f0",
   "metadata": {},
   "outputs": [],
   "source": [
    "#acess page\n",
    "driver.get(\"https://www.flipkart.com/apple-iphone-11-black-64-gb/product-reviews/itm4e5041ba101fd?pid=MOBFWQ6BXGJCEYNY&lid=LSTMOBFWQ6BXGJCEYNYZXSHRJ&market\")"
   ]
  },
  {
   "cell_type": "code",
   "execution_count": null,
   "id": "60b009ba",
   "metadata": {},
   "outputs": [],
   "source": []
  },
  {
   "cell_type": "code",
   "execution_count": 236,
   "id": "2e025052",
   "metadata": {},
   "outputs": [],
   "source": [
    "#empty array\n",
    "rating=[]\n",
    "rev=[]\n",
    "ful=[]"
   ]
  },
  {
   "cell_type": "code",
   "execution_count": 237,
   "id": "4f5f8977",
   "metadata": {},
   "outputs": [],
   "source": [
    "#access and read data\n",
    "for l in range(0,30):\n",
    "\n",
    "    ra=driver.find_elements(By.XPATH,'//div[@class=\"_3LWZlK _1BLPMq\"]')\n",
    "    for i in ra[0:100]:\n",
    "        ra=i.text\n",
    "        rating.append(ra)\n",
    "    r=driver.find_elements(By.XPATH,'//p[@class=\"_2-N8zT\"]')\n",
    "    for i in r[0:100]:\n",
    "        r=i.text\n",
    "        rev.append(r)\n",
    "    fu=driver.find_elements(By.XPATH,'//div[@class=\"t-ZTKy\"]')\n",
    "    for i in fu[0:100]:\n",
    "        fu=i.text\n",
    "        ful.append(fu)\n",
    "try:\n",
    "        nav=driver.find_element(By.XPATH,'/html/body/div/div/div[3]/div/div/div[2]/div[13]/div/div/nav')\n",
    "        nav.click()\n",
    "except NoSuchElement as ex:\n",
    "        print(\"ex.message\")\n",
    "\n",
    "\n"
   ]
  },
  {
   "cell_type": "code",
   "execution_count": 238,
   "id": "e2b99e2e",
   "metadata": {},
   "outputs": [
    {
     "name": "stdout",
     "output_type": "stream",
     "text": [
      "300 300 300\n"
     ]
    }
   ],
   "source": [
    "#check length\n",
    "print(len(rating),len(rev),len(ful))"
   ]
  },
  {
   "cell_type": "code",
   "execution_count": 239,
   "id": "373f0890",
   "metadata": {},
   "outputs": [
    {
     "data": {
      "text/html": [
       "<div>\n",
       "<style scoped>\n",
       "    .dataframe tbody tr th:only-of-type {\n",
       "        vertical-align: middle;\n",
       "    }\n",
       "\n",
       "    .dataframe tbody tr th {\n",
       "        vertical-align: top;\n",
       "    }\n",
       "\n",
       "    .dataframe thead th {\n",
       "        text-align: right;\n",
       "    }\n",
       "</style>\n",
       "<table border=\"1\" class=\"dataframe\">\n",
       "  <thead>\n",
       "    <tr style=\"text-align: right;\">\n",
       "      <th></th>\n",
       "      <th>rating</th>\n",
       "      <th>review_summary</th>\n",
       "      <th>full_review</th>\n",
       "    </tr>\n",
       "  </thead>\n",
       "  <tbody>\n",
       "    <tr>\n",
       "      <th>0</th>\n",
       "      <td>5</td>\n",
       "      <td>Simply awesome</td>\n",
       "      <td>Really satisfied with the Product I received.....</td>\n",
       "    </tr>\n",
       "    <tr>\n",
       "      <th>1</th>\n",
       "      <td>5</td>\n",
       "      <td>Perfect product!</td>\n",
       "      <td>Amazing phone with great cameras and better ba...</td>\n",
       "    </tr>\n",
       "    <tr>\n",
       "      <th>2</th>\n",
       "      <td>4</td>\n",
       "      <td>Value-for-money</td>\n",
       "      <td>I'm Really happy with the product\\nDelivery wa...</td>\n",
       "    </tr>\n",
       "    <tr>\n",
       "      <th>3</th>\n",
       "      <td>5</td>\n",
       "      <td>Best in the market!</td>\n",
       "      <td>Great iPhone very snappy experience as apple k...</td>\n",
       "    </tr>\n",
       "    <tr>\n",
       "      <th>4</th>\n",
       "      <td>5</td>\n",
       "      <td>Highly recommended</td>\n",
       "      <td>It's my first time to use iOS phone and I am l...</td>\n",
       "    </tr>\n",
       "    <tr>\n",
       "      <th>...</th>\n",
       "      <td>...</td>\n",
       "      <td>...</td>\n",
       "      <td>...</td>\n",
       "    </tr>\n",
       "    <tr>\n",
       "      <th>95</th>\n",
       "      <td>5</td>\n",
       "      <td>Worth every penny</td>\n",
       "      <td>Previously I was using one plus 3t it was a gr...</td>\n",
       "    </tr>\n",
       "    <tr>\n",
       "      <th>96</th>\n",
       "      <td>5</td>\n",
       "      <td>Perfect product!</td>\n",
       "      <td>Value for money\\n5 star rating\\nExcellent came...</td>\n",
       "    </tr>\n",
       "    <tr>\n",
       "      <th>97</th>\n",
       "      <td>5</td>\n",
       "      <td>Highly recommended</td>\n",
       "      <td>What a camera .....just awesome ..you can feel...</td>\n",
       "    </tr>\n",
       "    <tr>\n",
       "      <th>98</th>\n",
       "      <td>5</td>\n",
       "      <td>Great product</td>\n",
       "      <td>Amazing Powerful and Durable Gadget.\\n\\nI’m am...</td>\n",
       "    </tr>\n",
       "    <tr>\n",
       "      <th>99</th>\n",
       "      <td>4</td>\n",
       "      <td>Pretty good</td>\n",
       "      <td>I was using Iphone 6s and also Oneplus 6t. Bot...</td>\n",
       "    </tr>\n",
       "  </tbody>\n",
       "</table>\n",
       "<p>100 rows × 3 columns</p>\n",
       "</div>"
      ],
      "text/plain": [
       "   rating       review_summary  \\\n",
       "0       5       Simply awesome   \n",
       "1       5     Perfect product!   \n",
       "2       4      Value-for-money   \n",
       "3       5  Best in the market!   \n",
       "4       5   Highly recommended   \n",
       "..    ...                  ...   \n",
       "95      5    Worth every penny   \n",
       "96      5     Perfect product!   \n",
       "97      5   Highly recommended   \n",
       "98      5        Great product   \n",
       "99      4          Pretty good   \n",
       "\n",
       "                                          full_review  \n",
       "0   Really satisfied with the Product I received.....  \n",
       "1   Amazing phone with great cameras and better ba...  \n",
       "2   I'm Really happy with the product\\nDelivery wa...  \n",
       "3   Great iPhone very snappy experience as apple k...  \n",
       "4   It's my first time to use iOS phone and I am l...  \n",
       "..                                                ...  \n",
       "95  Previously I was using one plus 3t it was a gr...  \n",
       "96  Value for money\\n5 star rating\\nExcellent came...  \n",
       "97  What a camera .....just awesome ..you can feel...  \n",
       "98  Amazing Powerful and Durable Gadget.\\n\\nI’m am...  \n",
       "99  I was using Iphone 6s and also Oneplus 6t. Bot...  \n",
       "\n",
       "[100 rows x 3 columns]"
      ]
     },
     "execution_count": 239,
     "metadata": {},
     "output_type": "execute_result"
    }
   ],
   "source": [
    "#create dataframe\n",
    "d5=pd.DataFrame({\"rating\":rating[0:100],\"review_summary\":rev[0:100],\"full_review\":ful[0:100]})\n",
    "d5"
   ]
  },
  {
   "cell_type": "code",
   "execution_count": null,
   "id": "f8639941",
   "metadata": {},
   "outputs": [],
   "source": []
  },
  {
   "cell_type": "raw",
   "id": "5388cfdc",
   "metadata": {},
   "source": [
    "Q6: Scrape data for first 100 sneakers you find when you visit flipkart.com and search for “sneakers” in the\n",
    "search field.\n",
    "You have to scrape 3 attributes of each sneaker:\n",
    "1. Brand\n",
    "2. ProductDescription\n",
    "3. Price"
   ]
  },
  {
   "cell_type": "code",
   "execution_count": 1,
   "id": "bff4c7fa",
   "metadata": {},
   "outputs": [],
   "source": [
    "#import headers\n",
    "import selenium\n",
    "import pandas as pd\n",
    "from selenium import webdriver\n",
    "import warnings\n",
    "warnings.filterwarnings(\"ignore\")\n",
    "from selenium.common.exceptions import StaleElementReferenceException,NoSuchElementException\n",
    "from selenium.webdriver.common.by import By\n",
    "import time"
   ]
  },
  {
   "cell_type": "code",
   "execution_count": 2,
   "id": "743771ff",
   "metadata": {},
   "outputs": [],
   "source": [
    "#open chrome\n",
    "driver=webdriver.Chrome(r\"chromedriver.exe\")"
   ]
  },
  {
   "cell_type": "code",
   "execution_count": 12,
   "id": "43728d54",
   "metadata": {},
   "outputs": [],
   "source": [
    "#open site\n",
    "driver.get(\"https://www.flipkart.com/\")"
   ]
  },
  {
   "cell_type": "code",
   "execution_count": 13,
   "id": "8ada9626",
   "metadata": {},
   "outputs": [],
   "source": [
    "#send data\n",
    "skill=driver.find_element(By.CLASS_NAME,'_3704LK ')\n",
    "skill.send_keys(\"Sneakers\")"
   ]
  },
  {
   "cell_type": "code",
   "execution_count": 14,
   "id": "dfef5914",
   "metadata": {},
   "outputs": [],
   "source": [
    "#click search\n",
    "search=driver.find_element(By.XPATH,'/html/body/div/div/div[1]/div[1]/div[2]/div[2]/form/div/button')\n",
    "search.click()"
   ]
  },
  {
   "cell_type": "code",
   "execution_count": 15,
   "id": "02f713a6",
   "metadata": {},
   "outputs": [],
   "source": [
    "#empty aarray\n",
    "brand=[]\n",
    "description=[]\n",
    "price=[]"
   ]
  },
  {
   "cell_type": "code",
   "execution_count": 16,
   "id": "5e56515a",
   "metadata": {},
   "outputs": [],
   "source": [
    "\n",
    "\n",
    "#access and read data\n",
    "for l in range(0,30):\n",
    "\n",
    "    br=driver.find_elements(By.XPATH,'//div[@class=\"_2WkVRV\"]')\n",
    "    for i in br:\n",
    "        br=i.text\n",
    "        brand.append(br)\n",
    "    desc=driver.find_elements(By.XPATH,'//a[@class=\"IRpwTa\"]')\n",
    "    for i in desc:\n",
    "        desc=i.text\n",
    "        description.append(desc)\n",
    "    \n",
    "    pr=driver.find_elements(By.XPATH,'//div[@class=\"_30jeq3\"]')\n",
    "    for i in pr:\n",
    "        pr=i.text\n",
    "        price.append(pr)\n",
    "try:\n",
    "        nav=driver.find_element(By.XPATH,'/html/body/div[1]/div/div[3]/div[1]/div[2]/div[12]/div/div/nav/a[1]')\n",
    "        nav.click()\n",
    "except NoSuchElement as ex:\n",
    "        print(\"ex.message\")\n"
   ]
  },
  {
   "cell_type": "code",
   "execution_count": 17,
   "id": "c82d9272",
   "metadata": {},
   "outputs": [
    {
     "name": "stdout",
     "output_type": "stream",
     "text": [
      "1200 1200 1200\n"
     ]
    }
   ],
   "source": [
    "#check length\n",
    "print(len(brand),len(description),len(price))"
   ]
  },
  {
   "cell_type": "code",
   "execution_count": 18,
   "id": "b4bf9a80",
   "metadata": {},
   "outputs": [
    {
     "data": {
      "text/html": [
       "<div>\n",
       "<style scoped>\n",
       "    .dataframe tbody tr th:only-of-type {\n",
       "        vertical-align: middle;\n",
       "    }\n",
       "\n",
       "    .dataframe tbody tr th {\n",
       "        vertical-align: top;\n",
       "    }\n",
       "\n",
       "    .dataframe thead th {\n",
       "        text-align: right;\n",
       "    }\n",
       "</style>\n",
       "<table border=\"1\" class=\"dataframe\">\n",
       "  <thead>\n",
       "    <tr style=\"text-align: right;\">\n",
       "      <th></th>\n",
       "      <th>brand</th>\n",
       "      <th>product description</th>\n",
       "      <th>price</th>\n",
       "    </tr>\n",
       "  </thead>\n",
       "  <tbody>\n",
       "    <tr>\n",
       "      <th>0</th>\n",
       "      <td>TR</td>\n",
       "      <td>Sneakers For Men</td>\n",
       "      <td>₹699</td>\n",
       "    </tr>\n",
       "    <tr>\n",
       "      <th>1</th>\n",
       "      <td>Labbin</td>\n",
       "      <td>Sneakers For Men</td>\n",
       "      <td>₹449</td>\n",
       "    </tr>\n",
       "    <tr>\n",
       "      <th>2</th>\n",
       "      <td>SFR</td>\n",
       "      <td>Sneakers For Men</td>\n",
       "      <td>₹289</td>\n",
       "    </tr>\n",
       "    <tr>\n",
       "      <th>3</th>\n",
       "      <td>BIRDE</td>\n",
       "      <td>Combo Pack of 2 Casual Shoes Sneakers For Men</td>\n",
       "      <td>₹499</td>\n",
       "    </tr>\n",
       "    <tr>\n",
       "      <th>4</th>\n",
       "      <td>BRUTON</td>\n",
       "      <td>Canvas shoes for Men Sneakers For Men</td>\n",
       "      <td>₹249</td>\n",
       "    </tr>\n",
       "    <tr>\n",
       "      <th>...</th>\n",
       "      <td>...</td>\n",
       "      <td>...</td>\n",
       "      <td>...</td>\n",
       "    </tr>\n",
       "    <tr>\n",
       "      <th>95</th>\n",
       "      <td>Nilatin</td>\n",
       "      <td>Numenzo White Canvas Sneaker For Men Sneakers ...</td>\n",
       "      <td>₹563</td>\n",
       "    </tr>\n",
       "    <tr>\n",
       "      <th>96</th>\n",
       "      <td>BRUTON</td>\n",
       "      <td>2 Combo Sneaker Shoes Sneakers For Men</td>\n",
       "      <td>₹499</td>\n",
       "    </tr>\n",
       "    <tr>\n",
       "      <th>97</th>\n",
       "      <td>Shozie</td>\n",
       "      <td>Stylish Walking Partywear Sneakers Casual Shoe...</td>\n",
       "      <td>₹389</td>\n",
       "    </tr>\n",
       "    <tr>\n",
       "      <th>98</th>\n",
       "      <td>BIRDE</td>\n",
       "      <td>Trendy And Stylish New Design Casual Shoe For ...</td>\n",
       "      <td>₹449</td>\n",
       "    </tr>\n",
       "    <tr>\n",
       "      <th>99</th>\n",
       "      <td>aadi</td>\n",
       "      <td>Mesh |Lightweight|Comfort|Summer|Trendy|Walkin...</td>\n",
       "      <td>₹479</td>\n",
       "    </tr>\n",
       "  </tbody>\n",
       "</table>\n",
       "<p>100 rows × 3 columns</p>\n",
       "</div>"
      ],
      "text/plain": [
       "      brand                                product description price\n",
       "0        TR                                   Sneakers For Men  ₹699\n",
       "1    Labbin                                   Sneakers For Men  ₹449\n",
       "2       SFR                                   Sneakers For Men  ₹289\n",
       "3     BIRDE      Combo Pack of 2 Casual Shoes Sneakers For Men  ₹499\n",
       "4    BRUTON              Canvas shoes for Men Sneakers For Men  ₹249\n",
       "..      ...                                                ...   ...\n",
       "95  Nilatin  Numenzo White Canvas Sneaker For Men Sneakers ...  ₹563\n",
       "96   BRUTON             2 Combo Sneaker Shoes Sneakers For Men  ₹499\n",
       "97   Shozie  Stylish Walking Partywear Sneakers Casual Shoe...  ₹389\n",
       "98    BIRDE  Trendy And Stylish New Design Casual Shoe For ...  ₹449\n",
       "99     aadi  Mesh |Lightweight|Comfort|Summer|Trendy|Walkin...  ₹479\n",
       "\n",
       "[100 rows x 3 columns]"
      ]
     },
     "execution_count": 18,
     "metadata": {},
     "output_type": "execute_result"
    }
   ],
   "source": [
    "#Create dataframe with data\n",
    "d4=pd.DataFrame({\"brand\":brand[0:100],\"product description\":description[0:100],\"price\":price[0:100]})\n",
    "d4"
   ]
  },
  {
   "cell_type": "code",
   "execution_count": null,
   "id": "dd588632",
   "metadata": {},
   "outputs": [],
   "source": []
  },
  {
   "cell_type": "raw",
   "id": "8d20740f",
   "metadata": {},
   "source": [
    "Q7: Go to webpage https://www.amazon.in/ Enter “Laptop” in the search field and then click the search icon. Then\n",
    "set CPU Type filter to “Intel Core i7” as shown in the below image:\n",
    "    After setting the filters scrape first 10 laptops data. You have to scrape 3 attributes for each laptop:\n",
    "1. Title\n",
    "2. Ratings\n",
    "3. Price\n"
   ]
  },
  {
   "cell_type": "code",
   "execution_count": 134,
   "id": "f02914eb",
   "metadata": {},
   "outputs": [],
   "source": [
    "#import headers\n",
    "import selenium\n",
    "import pandas as pd\n",
    "from selenium import webdriver\n",
    "import warnings\n",
    "warnings.filterwarnings(\"ignore\")\n",
    "from selenium.common.exceptions import StaleElementReferenceException,NoSuchElementException\n",
    "from selenium.webdriver.common.by import By\n",
    "import time"
   ]
  },
  {
   "cell_type": "code",
   "execution_count": 135,
   "id": "3b9ea043",
   "metadata": {},
   "outputs": [],
   "source": [
    "#open chrome\n",
    "driver=webdriver.Chrome(r\"chromedriver.exe\")"
   ]
  },
  {
   "cell_type": "code",
   "execution_count": 136,
   "id": "1afcaa30",
   "metadata": {},
   "outputs": [],
   "source": [
    "#open site\n",
    "driver.get(\"https://www.amazon.in/\")"
   ]
  },
  {
   "cell_type": "code",
   "execution_count": 137,
   "id": "acdbc3d4",
   "metadata": {},
   "outputs": [],
   "source": [
    "#send data\n",
    "skill=driver.find_element(By.ID,'twotabsearchtextbox')\n",
    "skill.send_keys(\"Laptop\")"
   ]
  },
  {
   "cell_type": "code",
   "execution_count": 138,
   "id": "3841aacd",
   "metadata": {},
   "outputs": [],
   "source": [
    "#search sent data\n",
    "search=driver.find_element(By.XPATH,'/html/body/div[1]/header/div/div[1]/div[2]/div/form/div[3]/div/span/input')\n",
    "search.click()"
   ]
  },
  {
   "cell_type": "code",
   "execution_count": 139,
   "id": "687d0001",
   "metadata": {},
   "outputs": [],
   "source": [
    "#apply filter\n",
    "checkbox=driver.find_element(By.XPATH,'/html/body/div[1]/div[2]/div[1]/div[2]/div/div[3]/span/div[1]/div/div/div[6]/ul[6]/li[13]/span/a/div')\n",
    "checkbox.click()"
   ]
  },
  {
   "cell_type": "code",
   "execution_count": 140,
   "id": "cf788acf",
   "metadata": {},
   "outputs": [],
   "source": [
    "#empty array\n",
    "brand=[]\n",
    "description=[]\n",
    "price=[]"
   ]
  },
  {
   "cell_type": "code",
   "execution_count": 142,
   "id": "05ce5bca",
   "metadata": {},
   "outputs": [],
   "source": [
    "#access and read data\n",
    "for l in range(0,30):\n",
    "\n",
    "    br=driver.find_elements(By.XPATH,'//span[@class=\"a-size-medium a-color-base a-text-normal\"]')\n",
    "    for i in br[0:10]:\n",
    "        br=i.text\n",
    "        brand.append(br)\n",
    "    \n",
    "    pr=driver.find_elements(By.XPATH,'//span[@class=\"a-price-whole\"]')\n",
    "    for i in pr[0:10]:\n",
    "        pr=i.text\n",
    "        price.append(pr)\n",
    "\n",
    "\n",
    "\n"
   ]
  },
  {
   "cell_type": "code",
   "execution_count": 144,
   "id": "2a972de3",
   "metadata": {},
   "outputs": [
    {
     "data": {
      "text/html": [
       "<div>\n",
       "<style scoped>\n",
       "    .dataframe tbody tr th:only-of-type {\n",
       "        vertical-align: middle;\n",
       "    }\n",
       "\n",
       "    .dataframe tbody tr th {\n",
       "        vertical-align: top;\n",
       "    }\n",
       "\n",
       "    .dataframe thead th {\n",
       "        text-align: right;\n",
       "    }\n",
       "</style>\n",
       "<table border=\"1\" class=\"dataframe\">\n",
       "  <thead>\n",
       "    <tr style=\"text-align: right;\">\n",
       "      <th></th>\n",
       "      <th>brand_description</th>\n",
       "      <th>price</th>\n",
       "    </tr>\n",
       "  </thead>\n",
       "  <tbody>\n",
       "    <tr>\n",
       "      <th>0</th>\n",
       "      <td>Mi Notebook Pro QHD+ IPS Anti-Glare Display In...</td>\n",
       "      <td>54,999</td>\n",
       "    </tr>\n",
       "    <tr>\n",
       "      <th>1</th>\n",
       "      <td>Honor MagicBook X14, 11th Gen Intel Core i5-11...</td>\n",
       "      <td>46,990</td>\n",
       "    </tr>\n",
       "    <tr>\n",
       "      <th>2</th>\n",
       "      <td>(Renewed) Dell Latitude E5470 Intel Core i5 6t...</td>\n",
       "      <td>18,199</td>\n",
       "    </tr>\n",
       "    <tr>\n",
       "      <th>3</th>\n",
       "      <td>ASUS VivoBook 14 (2021), Intel Core i5-1035G1 ...</td>\n",
       "      <td>39,990</td>\n",
       "    </tr>\n",
       "    <tr>\n",
       "      <th>4</th>\n",
       "      <td>(Renewed) DELL Latitude 5490 Core i5 8th Gen L...</td>\n",
       "      <td>24,274</td>\n",
       "    </tr>\n",
       "    <tr>\n",
       "      <th>5</th>\n",
       "      <td>HP ProBook 440 G8 Notebook PC, 11th Gen Intel ...</td>\n",
       "      <td>51,990</td>\n",
       "    </tr>\n",
       "    <tr>\n",
       "      <th>6</th>\n",
       "      <td>(Renewed) Dell Latitude Laptop E7470 Intel Cor...</td>\n",
       "      <td>51,990</td>\n",
       "    </tr>\n",
       "    <tr>\n",
       "      <th>7</th>\n",
       "      <td>HP 15s, 12th Gen Intel Core i5 8GB RAM/512GB S...</td>\n",
       "      <td>20,999</td>\n",
       "    </tr>\n",
       "    <tr>\n",
       "      <th>8</th>\n",
       "      <td>HP 15s, 11th Gen Intel Core i5-1155G7, 15.6 in...</td>\n",
       "      <td>58,018</td>\n",
       "    </tr>\n",
       "    <tr>\n",
       "      <th>9</th>\n",
       "      <td>Lenovo (Renewed) Thinkpad T460 14-inch (35 cm)...</td>\n",
       "      <td>52,490</td>\n",
       "    </tr>\n",
       "  </tbody>\n",
       "</table>\n",
       "</div>"
      ],
      "text/plain": [
       "                                   brand_description   price\n",
       "0  Mi Notebook Pro QHD+ IPS Anti-Glare Display In...  54,999\n",
       "1  Honor MagicBook X14, 11th Gen Intel Core i5-11...  46,990\n",
       "2  (Renewed) Dell Latitude E5470 Intel Core i5 6t...  18,199\n",
       "3  ASUS VivoBook 14 (2021), Intel Core i5-1035G1 ...  39,990\n",
       "4  (Renewed) DELL Latitude 5490 Core i5 8th Gen L...  24,274\n",
       "5  HP ProBook 440 G8 Notebook PC, 11th Gen Intel ...  51,990\n",
       "6  (Renewed) Dell Latitude Laptop E7470 Intel Cor...  51,990\n",
       "7  HP 15s, 12th Gen Intel Core i5 8GB RAM/512GB S...  20,999\n",
       "8  HP 15s, 11th Gen Intel Core i5-1155G7, 15.6 in...  58,018\n",
       "9  Lenovo (Renewed) Thinkpad T460 14-inch (35 cm)...  52,490"
      ]
     },
     "execution_count": 144,
     "metadata": {},
     "output_type": "execute_result"
    }
   ],
   "source": [
    "#output in Dataframe\n",
    "d4=pd.DataFrame({\"brand_description\":brand[0:10],\"price\":price[0:10]})\n",
    "d4"
   ]
  },
  {
   "cell_type": "raw",
   "id": "41230348",
   "metadata": {},
   "source": [
    "Q8: Write a python program to scrape data for Top 1000 Quotes of All Time.\n",
    "The above task will be done in following steps:\n",
    "1. First get the webpagehttps://www.azquotes.com/\n",
    "2. Click on TopQuotes\n",
    "3. Than scrap a) Quote b) Author c) Type Of Quotes"
   ]
  },
  {
   "cell_type": "code",
   "execution_count": 1,
   "id": "cc24a10c",
   "metadata": {},
   "outputs": [],
   "source": [
    "#import headers\n",
    "import selenium\n",
    "import pandas as pd\n",
    "from selenium import webdriver\n",
    "import warnings\n",
    "warnings.filterwarnings(\"ignore\")\n",
    "from selenium.common.exceptions import StaleElementReferenceException,NoSuchElementException\n",
    "from selenium.webdriver.common.by import By\n",
    "import time"
   ]
  },
  {
   "cell_type": "code",
   "execution_count": 2,
   "id": "cc45509b",
   "metadata": {},
   "outputs": [],
   "source": [
    "#open chrome\n",
    "driver=webdriver.Chrome(r\"chromedriver.exe\")"
   ]
  },
  {
   "cell_type": "code",
   "execution_count": 3,
   "id": "d8a0421d",
   "metadata": {},
   "outputs": [],
   "source": [
    "#open site\n",
    "driver.get(\"https://www.azquotes.com/\")"
   ]
  },
  {
   "cell_type": "code",
   "execution_count": 4,
   "id": "885ebe4c",
   "metadata": {},
   "outputs": [],
   "source": [
    "#click top Quotes\n",
    "search=driver.find_element(By.XPATH,'/html/body/div[1]/div[1]/div[1]/div/div[3]/ul/li[5]/a')\n",
    "search.click()"
   ]
  },
  {
   "cell_type": "code",
   "execution_count": 5,
   "id": "d91b5cf7",
   "metadata": {},
   "outputs": [],
   "source": [
    "#empty array\n",
    "quotes=[]\n",
    "author=[]\n",
    "Type=[]"
   ]
  },
  {
   "cell_type": "code",
   "execution_count": 6,
   "id": "803a8cdd",
   "metadata": {},
   "outputs": [],
   "source": [
    "\n",
    "#access and read data\n",
    "for l in range(0,30):\n",
    "\n",
    "    br=driver.find_elements(By.XPATH,'//a[@class=\"title\"]')\n",
    "    \n",
    "    for i in br:\n",
    "        br=i.text\n",
    "        quotes.append(br)\n",
    "    au=driver.find_elements(By.XPATH,'//div[@class=\"author\"]')\n",
    "    for i in au:\n",
    "        au=i.text\n",
    "        author.append(au)\n",
    "    \n",
    "    pr=driver.find_elements(By.XPATH,'//div[@class=\"tags\"]')\n",
    "    for i in pr:\n",
    "        pr=i.text\n",
    "        Type.append(pr)\n",
    "try:\n",
    "        nav=driver.find_element(By.XPATH,'/html/body/div[1]/div[2]/div/div/div/div[1]/div/div[3]/li[12]/a')\n",
    "        nav.click()\n",
    "except NoSuchElement as ex:\n",
    "        print(\"ex.message\")\n",
    "\n"
   ]
  },
  {
   "cell_type": "code",
   "execution_count": 8,
   "id": "9f6c7f03",
   "metadata": {},
   "outputs": [
    {
     "name": "stdout",
     "output_type": "stream",
     "text": [
      "3000 3000 3000\n"
     ]
    }
   ],
   "source": [
    "#check length\n",
    "print(len(quotes),len(author),len(Type))"
   ]
  },
  {
   "cell_type": "code",
   "execution_count": 10,
   "id": "0cf8326f",
   "metadata": {},
   "outputs": [
    {
     "data": {
      "text/html": [
       "<div>\n",
       "<style scoped>\n",
       "    .dataframe tbody tr th:only-of-type {\n",
       "        vertical-align: middle;\n",
       "    }\n",
       "\n",
       "    .dataframe tbody tr th {\n",
       "        vertical-align: top;\n",
       "    }\n",
       "\n",
       "    .dataframe thead th {\n",
       "        text-align: right;\n",
       "    }\n",
       "</style>\n",
       "<table border=\"1\" class=\"dataframe\">\n",
       "  <thead>\n",
       "    <tr style=\"text-align: right;\">\n",
       "      <th></th>\n",
       "      <th>Quotes</th>\n",
       "      <th>Author</th>\n",
       "      <th>Quote_Type</th>\n",
       "    </tr>\n",
       "  </thead>\n",
       "  <tbody>\n",
       "    <tr>\n",
       "      <th>0</th>\n",
       "      <td>The essence of strategy is choosing what not t...</td>\n",
       "      <td>Michael Porter</td>\n",
       "      <td>Essence, Deep Thought, Transcendentalism</td>\n",
       "    </tr>\n",
       "    <tr>\n",
       "      <th>1</th>\n",
       "      <td>One cannot and must not try to erase the past ...</td>\n",
       "      <td>Golda Meir</td>\n",
       "      <td>Inspiration, Past, Trying</td>\n",
       "    </tr>\n",
       "    <tr>\n",
       "      <th>2</th>\n",
       "      <td>Patriotism means to stand by the country. It d...</td>\n",
       "      <td>Theodore Roosevelt</td>\n",
       "      <td>Country, Peace, War</td>\n",
       "    </tr>\n",
       "    <tr>\n",
       "      <th>3</th>\n",
       "      <td>Death is something inevitable. When a man has ...</td>\n",
       "      <td>Nelson Mandela</td>\n",
       "      <td>Inspirational, Motivational, Death</td>\n",
       "    </tr>\n",
       "    <tr>\n",
       "      <th>4</th>\n",
       "      <td>You have to love a nation that celebrates its ...</td>\n",
       "      <td>Erma Bombeck</td>\n",
       "      <td>4th Of July, Food, Patriotic</td>\n",
       "    </tr>\n",
       "    <tr>\n",
       "      <th>...</th>\n",
       "      <td>...</td>\n",
       "      <td>...</td>\n",
       "      <td>...</td>\n",
       "    </tr>\n",
       "    <tr>\n",
       "      <th>995</th>\n",
       "      <td>When the going gets weird, the weird turn pro.</td>\n",
       "      <td>Hunter S. Thompson</td>\n",
       "      <td>Music, Sports, Hunting</td>\n",
       "    </tr>\n",
       "    <tr>\n",
       "      <th>996</th>\n",
       "      <td>When a train goes through a tunnel and it gets...</td>\n",
       "      <td>Corrie Ten Boom</td>\n",
       "      <td>Trust, Encouraging, Uplifting</td>\n",
       "    </tr>\n",
       "    <tr>\n",
       "      <th>997</th>\n",
       "      <td>If you think you are too small to make a diffe...</td>\n",
       "      <td>Dalai Lama</td>\n",
       "      <td>Inspirational, Funny, Change</td>\n",
       "    </tr>\n",
       "    <tr>\n",
       "      <th>998</th>\n",
       "      <td>God doesn't require us to succeed, he only req...</td>\n",
       "      <td>Mother Teresa</td>\n",
       "      <td>Success, God, Mother</td>\n",
       "    </tr>\n",
       "    <tr>\n",
       "      <th>999</th>\n",
       "      <td>Change your thoughts and you change your world.</td>\n",
       "      <td>Norman Vincent Peale</td>\n",
       "      <td>Inspirational, Motivational, Change</td>\n",
       "    </tr>\n",
       "  </tbody>\n",
       "</table>\n",
       "<p>1000 rows × 3 columns</p>\n",
       "</div>"
      ],
      "text/plain": [
       "                                                Quotes                Author  \\\n",
       "0    The essence of strategy is choosing what not t...        Michael Porter   \n",
       "1    One cannot and must not try to erase the past ...            Golda Meir   \n",
       "2    Patriotism means to stand by the country. It d...    Theodore Roosevelt   \n",
       "3    Death is something inevitable. When a man has ...        Nelson Mandela   \n",
       "4    You have to love a nation that celebrates its ...          Erma Bombeck   \n",
       "..                                                 ...                   ...   \n",
       "995     When the going gets weird, the weird turn pro.    Hunter S. Thompson   \n",
       "996  When a train goes through a tunnel and it gets...       Corrie Ten Boom   \n",
       "997  If you think you are too small to make a diffe...            Dalai Lama   \n",
       "998  God doesn't require us to succeed, he only req...         Mother Teresa   \n",
       "999    Change your thoughts and you change your world.  Norman Vincent Peale   \n",
       "\n",
       "                                   Quote_Type  \n",
       "0    Essence, Deep Thought, Transcendentalism  \n",
       "1                   Inspiration, Past, Trying  \n",
       "2                         Country, Peace, War  \n",
       "3          Inspirational, Motivational, Death  \n",
       "4                4th Of July, Food, Patriotic  \n",
       "..                                        ...  \n",
       "995                    Music, Sports, Hunting  \n",
       "996             Trust, Encouraging, Uplifting  \n",
       "997              Inspirational, Funny, Change  \n",
       "998                      Success, God, Mother  \n",
       "999       Inspirational, Motivational, Change  \n",
       "\n",
       "[1000 rows x 3 columns]"
      ]
     },
     "execution_count": 10,
     "metadata": {},
     "output_type": "execute_result"
    }
   ],
   "source": [
    "#output in dataframe\n",
    "d4=pd.DataFrame({\"Quotes\":quotes[0:1000],\"Author\":author[0:1000],\"Quote_Type\":Type[0:1000]})\n",
    "d4"
   ]
  },
  {
   "cell_type": "raw",
   "id": "8777b2ad",
   "metadata": {},
   "source": [
    "Q9: Write a python program to display list of respected former Prime Ministers of India(i.e. Name, Born-Dead,\n",
    "Term of office, Remarks) from https://www.jagranjosh.com/.\n",
    "This task will be done in following steps:\n",
    "1. First get the webpagehttps://www.jagranjosh.com/\n",
    "2. Then You have to click on the GK option\n",
    "3. Then click on the List of all Prime Ministers of India\n",
    "4. Then scrap the mentioned data and make theDataFrame"
   ]
  },
  {
   "cell_type": "code",
   "execution_count": 158,
   "id": "aead1f04",
   "metadata": {},
   "outputs": [],
   "source": [
    "#import headers\n",
    "import selenium\n",
    "import pandas as pd\n",
    "from selenium import webdriver\n",
    "import warnings\n",
    "warnings.filterwarnings(\"ignore\")\n",
    "from selenium.common.exceptions import StaleElementReferenceException,NoSuchElementException\n",
    "from selenium.webdriver.common.by import By\n",
    "import time"
   ]
  },
  {
   "cell_type": "code",
   "execution_count": 159,
   "id": "91ba2b65",
   "metadata": {},
   "outputs": [],
   "source": [
    "#open chrome\n",
    "driver=webdriver.Chrome(r\"chromedriver.exe\")"
   ]
  },
  {
   "cell_type": "code",
   "execution_count": 160,
   "id": "dcbc846d",
   "metadata": {},
   "outputs": [],
   "source": [
    "#open site\n",
    "driver.get(\"https://www.jagranjosh.com/\")"
   ]
  },
  {
   "cell_type": "code",
   "execution_count": 161,
   "id": "ae406666",
   "metadata": {},
   "outputs": [],
   "source": [
    "#click gk\n",
    "search=driver.find_element(By.XPATH,'/html/body/div/div[1]/div/div[1]/div/div[6]/div/div[1]/header/div[3]/ul/li[9]/a')\n",
    "search.click()"
   ]
  },
  {
   "cell_type": "code",
   "execution_count": 163,
   "id": "275c3de5",
   "metadata": {},
   "outputs": [],
   "source": [
    "#select topic\n",
    "searc=driver.find_element(By.XPATH,'/html/body/div[1]/div/div/div[2]/div/div[10]/div/div/ul/li[2]/a')\n",
    "searc.click()"
   ]
  },
  {
   "cell_type": "code",
   "execution_count": 164,
   "id": "0edd31b0",
   "metadata": {},
   "outputs": [],
   "source": [
    "name=[]\n",
    "born_dead=[]\n",
    "Term=[]\n",
    "remark=[]"
   ]
  },
  {
   "cell_type": "code",
   "execution_count": null,
   "id": "9fa35594",
   "metadata": {},
   "outputs": [],
   "source": [
    "#read table\n",
    "output_lst = []\n",
    "\n",
    "for tr in driver.find_elements(By.XPATH,'/html/body/div[1]/div[2]/div/div[2]/div/div[1]/div/div/div/div[4]/span/div[3]'):\n",
    "    \n",
    "    tds = tr.find_elements(By.TAG_NAME,'p')\n",
    "    output_lst = [td.text for td in tds]\n"
   ]
  },
  {
   "cell_type": "code",
   "execution_count": null,
   "id": "1cf28c8a",
   "metadata": {},
   "outputs": [],
   "source": [
    "#output in Dataframe\n",
    "d6=pd.DataFrame({\"output\":output_lst})\n",
    "d6"
   ]
  },
  {
   "cell_type": "raw",
   "id": "422c1aff",
   "metadata": {},
   "source": [
    "Q10: Write a python program to display list of 50 Most expensive cars in the world (i.e.\n",
    "Car name and Price) from https://www.motor1.com/\n",
    "This task will be done in following steps:\n",
    "1. First get the webpagehttps://www.motor1.com/\n",
    "2. Then You have to click on the List option from Dropdown menu on leftside.\n",
    "3. Then click on 50 most expensive carsin the world..\n",
    "4. Then scrap the mentioned data and make the dataframe."
   ]
  },
  {
   "cell_type": "code",
   "execution_count": 145,
   "id": "c6f232b0",
   "metadata": {},
   "outputs": [],
   "source": [
    "#import header files\n",
    "import selenium\n",
    "import pandas as pd\n",
    "from selenium import webdriver\n",
    "import warnings\n",
    "warnings.filterwarnings(\"ignore\")\n",
    "from selenium.common.exceptions import StaleElementReferenceException,NoSuchElementException\n",
    "from selenium.webdriver.common.by import By\n",
    "import time"
   ]
  },
  {
   "cell_type": "code",
   "execution_count": 146,
   "id": "40b385d3",
   "metadata": {},
   "outputs": [],
   "source": [
    "#access chrome\n",
    "driver=webdriver.Chrome(r\"chromedriver.exe\")"
   ]
  },
  {
   "cell_type": "code",
   "execution_count": 147,
   "id": "b544402e",
   "metadata": {},
   "outputs": [],
   "source": [
    "#access site\n",
    "driver.get(\"https://www.motor1.com/\")"
   ]
  },
  {
   "cell_type": "code",
   "execution_count": 149,
   "id": "cf774e1a",
   "metadata": {},
   "outputs": [],
   "source": [
    "#click dropdown menu\n",
    "search=driver.find_element(By.XPATH,'/html/body/div[3]/div[2]/div/div/div[1]/div')\n",
    "search.click()"
   ]
  },
  {
   "cell_type": "code",
   "execution_count": 153,
   "id": "c609a140",
   "metadata": {},
   "outputs": [],
   "source": [
    "#select list\n",
    "searc=driver.find_element(By.XPATH,'/html/body/div[4]/div[1]/div[3]/ul/li[5]/a')\n",
    "searc.click()"
   ]
  },
  {
   "cell_type": "code",
   "execution_count": 154,
   "id": "9f20b186",
   "metadata": {},
   "outputs": [],
   "source": [
    "#click topic\n",
    "sear=driver.find_element(By.XPATH,'/html/body/div[3]/div[7]/div/div[1]/div[1]/div[2]/div/div[1]/h3/a')\n",
    "sear.click()"
   ]
  },
  {
   "cell_type": "code",
   "execution_count": null,
   "id": "ee406ea1",
   "metadata": {},
   "outputs": [],
   "source": []
  },
  {
   "cell_type": "code",
   "execution_count": 155,
   "id": "81d8c44b",
   "metadata": {},
   "outputs": [],
   "source": [
    "#empty array\n",
    "name=[]\n",
    "price=[]"
   ]
  },
  {
   "cell_type": "code",
   "execution_count": 156,
   "id": "3caee243",
   "metadata": {},
   "outputs": [],
   "source": [
    "#access and read data\n",
    "br=driver.find_elements(By.XPATH,'//h3[ @class=\"subheader\"]')\n",
    "    for i in br:\n",
    "        br=i.text\n",
    "        name.append(br)\n",
    "    au=driver.find_elements(By.TAG_NAME,'strong')\n",
    "    for i in au:\n",
    "        au=i.text\n",
    "        price.append(au)\n"
   ]
  },
  {
   "cell_type": "code",
   "execution_count": 157,
   "id": "ec967ccb",
   "metadata": {},
   "outputs": [
    {
     "data": {
      "text/html": [
       "<div>\n",
       "<style scoped>\n",
       "    .dataframe tbody tr th:only-of-type {\n",
       "        vertical-align: middle;\n",
       "    }\n",
       "\n",
       "    .dataframe tbody tr th {\n",
       "        vertical-align: top;\n",
       "    }\n",
       "\n",
       "    .dataframe thead th {\n",
       "        text-align: right;\n",
       "    }\n",
       "</style>\n",
       "<table border=\"1\" class=\"dataframe\">\n",
       "  <thead>\n",
       "    <tr style=\"text-align: right;\">\n",
       "      <th></th>\n",
       "      <th>name</th>\n",
       "      <th>price</th>\n",
       "    </tr>\n",
       "  </thead>\n",
       "  <tbody>\n",
       "    <tr>\n",
       "      <th>0</th>\n",
       "      <td>De Tomaso P72</td>\n",
       "      <td>Price: $1.3 Million</td>\n",
       "    </tr>\n",
       "    <tr>\n",
       "      <th>1</th>\n",
       "      <td>Ferrari LaFerrari</td>\n",
       "      <td>Price: $1.4 Million</td>\n",
       "    </tr>\n",
       "    <tr>\n",
       "      <th>2</th>\n",
       "      <td>Pagani Huayra</td>\n",
       "      <td>Price: $1.4 Million</td>\n",
       "    </tr>\n",
       "    <tr>\n",
       "      <th>3</th>\n",
       "      <td>McLaren Elva</td>\n",
       "      <td></td>\n",
       "    </tr>\n",
       "    <tr>\n",
       "      <th>4</th>\n",
       "      <td>Czinger 21C</td>\n",
       "      <td>Price: $1.7 Million</td>\n",
       "    </tr>\n",
       "    <tr>\n",
       "      <th>5</th>\n",
       "      <td>Ferrari Monza</td>\n",
       "      <td>Price: $1.7 Million</td>\n",
       "    </tr>\n",
       "    <tr>\n",
       "      <th>6</th>\n",
       "      <td>Gordon Murray T.33</td>\n",
       "      <td>Price: $1.7 Million</td>\n",
       "    </tr>\n",
       "    <tr>\n",
       "      <th>7</th>\n",
       "      <td>Koenigsegg Gemera</td>\n",
       "      <td>Price: $1.7 Million</td>\n",
       "    </tr>\n",
       "    <tr>\n",
       "      <th>8</th>\n",
       "      <td>Zenvo TSR-S</td>\n",
       "      <td>Price: $1.7 Million</td>\n",
       "    </tr>\n",
       "    <tr>\n",
       "      <th>9</th>\n",
       "      <td>Hennessey Venom F5</td>\n",
       "      <td>Price: $1.7 Million</td>\n",
       "    </tr>\n",
       "    <tr>\n",
       "      <th>10</th>\n",
       "      <td>Bentley Bacalar</td>\n",
       "      <td>Price: $1.8 Million</td>\n",
       "    </tr>\n",
       "    <tr>\n",
       "      <th>11</th>\n",
       "      <td>Hispano Suiza Carmen Boulogne</td>\n",
       "      <td>Price: $1.9 Million</td>\n",
       "    </tr>\n",
       "    <tr>\n",
       "      <th>12</th>\n",
       "      <td>Bentley Mulliner Batur</td>\n",
       "      <td>Price: $1.9 Million</td>\n",
       "    </tr>\n",
       "    <tr>\n",
       "      <th>13</th>\n",
       "      <td>Deus Vayanne</td>\n",
       "      <td>Price: $2.0 Million</td>\n",
       "    </tr>\n",
       "    <tr>\n",
       "      <th>14</th>\n",
       "      <td>SSC Tuatara</td>\n",
       "      <td>Price: $2.0 Million</td>\n",
       "    </tr>\n",
       "    <tr>\n",
       "      <th>15</th>\n",
       "      <td>Lotus Evija</td>\n",
       "      <td>Price: $2.0 Million*</td>\n",
       "    </tr>\n",
       "    <tr>\n",
       "      <th>16</th>\n",
       "      <td>Aston Martin Vulcan</td>\n",
       "      <td>Price: $2.1 Million</td>\n",
       "    </tr>\n",
       "    <tr>\n",
       "      <th>17</th>\n",
       "      <td>Delage D12</td>\n",
       "      <td>Price: $2.3 Million</td>\n",
       "    </tr>\n",
       "    <tr>\n",
       "      <th>18</th>\n",
       "      <td>McLaren Speedtail</td>\n",
       "      <td>Price: $2.3 Million</td>\n",
       "    </tr>\n",
       "    <tr>\n",
       "      <th>19</th>\n",
       "      <td>Rimac Nevera</td>\n",
       "      <td>Price: $2.3 Million</td>\n",
       "    </tr>\n",
       "    <tr>\n",
       "      <th>20</th>\n",
       "      <td>Pagani Utopia</td>\n",
       "      <td>Price: $2.4 Million</td>\n",
       "    </tr>\n",
       "    <tr>\n",
       "      <th>21</th>\n",
       "      <td>Pininfarina Battista</td>\n",
       "      <td>Price: $2.5 Million</td>\n",
       "    </tr>\n",
       "    <tr>\n",
       "      <th>22</th>\n",
       "      <td>Ferrari FXX K Evo</td>\n",
       "      <td>Price: $2.5 Million</td>\n",
       "    </tr>\n",
       "    <tr>\n",
       "      <th>23</th>\n",
       "      <td>Gordon Murray T.50</td>\n",
       "      <td>Price: $2.6 Million</td>\n",
       "    </tr>\n",
       "    <tr>\n",
       "      <th>24</th>\n",
       "      <td>Lamborghini Countach</td>\n",
       "      <td>Price: $2.6 Million</td>\n",
       "    </tr>\n",
       "    <tr>\n",
       "      <th>25</th>\n",
       "      <td>Mercedes-AMG Project One</td>\n",
       "      <td>Price: $2.6 Million</td>\n",
       "    </tr>\n",
       "    <tr>\n",
       "      <th>26</th>\n",
       "      <td>Aston Martin Victor</td>\n",
       "      <td>Price: $2.7 Million</td>\n",
       "    </tr>\n",
       "    <tr>\n",
       "      <th>27</th>\n",
       "      <td>Hennessey Venom F5 Roadster</td>\n",
       "      <td>Price: $3.0 Million</td>\n",
       "    </tr>\n",
       "    <tr>\n",
       "      <th>28</th>\n",
       "      <td>Koenigsegg Jesko</td>\n",
       "      <td>$3.0 Million</td>\n",
       "    </tr>\n",
       "    <tr>\n",
       "      <th>29</th>\n",
       "      <td>Aston Martin Valkyrie</td>\n",
       "      <td>Price: $3.0 Million</td>\n",
       "    </tr>\n",
       "    <tr>\n",
       "      <th>30</th>\n",
       "      <td>W Motors Lykan Hypersport</td>\n",
       "      <td>Price: $3.2 Million</td>\n",
       "    </tr>\n",
       "    <tr>\n",
       "      <th>31</th>\n",
       "      <td>McLaren Solus</td>\n",
       "      <td>Price: $3.4 Million</td>\n",
       "    </tr>\n",
       "    <tr>\n",
       "      <th>32</th>\n",
       "      <td>Pagani Huayra Roadster BC</td>\n",
       "      <td>$3.5 Million</td>\n",
       "    </tr>\n",
       "    <tr>\n",
       "      <th>33</th>\n",
       "      <td>Bugatti Chiron Pur Sport</td>\n",
       "      <td>Price: $3.5 Million</td>\n",
       "    </tr>\n",
       "    <tr>\n",
       "      <th>34</th>\n",
       "      <td>Lamborghini Sian</td>\n",
       "      <td>Price: $3.6 Million</td>\n",
       "    </tr>\n",
       "    <tr>\n",
       "      <th>35</th>\n",
       "      <td>Koenigsegg CC850</td>\n",
       "      <td>Price: $3.6 million</td>\n",
       "    </tr>\n",
       "    <tr>\n",
       "      <th>36</th>\n",
       "      <td>Bugatti Chiron Super Sport 300+</td>\n",
       "      <td>Price: $3.7 Million</td>\n",
       "    </tr>\n",
       "    <tr>\n",
       "      <th>37</th>\n",
       "      <td>Lamborghini Veneno</td>\n",
       "      <td>Price: $3.9 Million</td>\n",
       "    </tr>\n",
       "    <tr>\n",
       "      <th>38</th>\n",
       "      <td>Bugatti Bolide</td>\n",
       "      <td>Price: $4.5 Million</td>\n",
       "    </tr>\n",
       "    <tr>\n",
       "      <th>39</th>\n",
       "      <td>Bugatti Mistral</td>\n",
       "      <td>Price: $4.7 Million</td>\n",
       "    </tr>\n",
       "    <tr>\n",
       "      <th>40</th>\n",
       "      <td>Pagani Huayra Imola</td>\n",
       "      <td>Price: $5.0 Million</td>\n",
       "    </tr>\n",
       "    <tr>\n",
       "      <th>41</th>\n",
       "      <td>Bugatti Divo</td>\n",
       "      <td>Price: $5.4 Million</td>\n",
       "    </tr>\n",
       "    <tr>\n",
       "      <th>42</th>\n",
       "      <td>SP Automotive Chaos</td>\n",
       "      <td>Price: $5.8 Million</td>\n",
       "    </tr>\n",
       "    <tr>\n",
       "      <th>43</th>\n",
       "      <td>Pagani Codalunga</td>\n",
       "      <td>Price: $6.4 Million</td>\n",
       "    </tr>\n",
       "    <tr>\n",
       "      <th>44</th>\n",
       "      <td>Mercedes-Maybach Exelero</td>\n",
       "      <td>Price: $7.4 Million</td>\n",
       "    </tr>\n",
       "    <tr>\n",
       "      <th>45</th>\n",
       "      <td>Bugatti Centodieci</td>\n",
       "      <td>Price: $8.0 Million</td>\n",
       "    </tr>\n",
       "    <tr>\n",
       "      <th>46</th>\n",
       "      <td>Bugatti Chiron Profilée</td>\n",
       "      <td>Price: $9.0 Million</td>\n",
       "    </tr>\n",
       "    <tr>\n",
       "      <th>47</th>\n",
       "      <td>Rolls-Royce Sweptail</td>\n",
       "      <td>Price: $10.8 Million</td>\n",
       "    </tr>\n",
       "    <tr>\n",
       "      <th>48</th>\n",
       "      <td>Bugatti La Voiture Noire</td>\n",
       "      <td>Price: $12.8 Million</td>\n",
       "    </tr>\n",
       "    <tr>\n",
       "      <th>49</th>\n",
       "      <td>Rolls-Royce Boat Tail*</td>\n",
       "      <td>Price: $13.4 Million</td>\n",
       "    </tr>\n",
       "    <tr>\n",
       "      <th>50</th>\n",
       "      <td>Most Expensive Cars In The World</td>\n",
       "      <td>Price: $28.0 Million (est.)</td>\n",
       "    </tr>\n",
       "  </tbody>\n",
       "</table>\n",
       "</div>"
      ],
      "text/plain": [
       "                                name                        price\n",
       "0                      De Tomaso P72          Price: $1.3 Million\n",
       "1                  Ferrari LaFerrari          Price: $1.4 Million\n",
       "2                      Pagani Huayra          Price: $1.4 Million\n",
       "3                       McLaren Elva                             \n",
       "4                        Czinger 21C          Price: $1.7 Million\n",
       "5                      Ferrari Monza          Price: $1.7 Million\n",
       "6                 Gordon Murray T.33          Price: $1.7 Million\n",
       "7                  Koenigsegg Gemera          Price: $1.7 Million\n",
       "8                        Zenvo TSR-S          Price: $1.7 Million\n",
       "9                 Hennessey Venom F5          Price: $1.7 Million\n",
       "10                   Bentley Bacalar          Price: $1.8 Million\n",
       "11     Hispano Suiza Carmen Boulogne          Price: $1.9 Million\n",
       "12            Bentley Mulliner Batur          Price: $1.9 Million\n",
       "13                      Deus Vayanne          Price: $2.0 Million\n",
       "14                       SSC Tuatara          Price: $2.0 Million\n",
       "15                       Lotus Evija         Price: $2.0 Million*\n",
       "16               Aston Martin Vulcan          Price: $2.1 Million\n",
       "17                        Delage D12          Price: $2.3 Million\n",
       "18                 McLaren Speedtail          Price: $2.3 Million\n",
       "19                      Rimac Nevera          Price: $2.3 Million\n",
       "20                     Pagani Utopia          Price: $2.4 Million\n",
       "21              Pininfarina Battista          Price: $2.5 Million\n",
       "22                 Ferrari FXX K Evo          Price: $2.5 Million\n",
       "23                Gordon Murray T.50          Price: $2.6 Million\n",
       "24              Lamborghini Countach          Price: $2.6 Million\n",
       "25          Mercedes-AMG Project One          Price: $2.6 Million\n",
       "26               Aston Martin Victor          Price: $2.7 Million\n",
       "27       Hennessey Venom F5 Roadster          Price: $3.0 Million\n",
       "28                  Koenigsegg Jesko                 $3.0 Million\n",
       "29             Aston Martin Valkyrie          Price: $3.0 Million\n",
       "30         W Motors Lykan Hypersport          Price: $3.2 Million\n",
       "31                     McLaren Solus          Price: $3.4 Million\n",
       "32         Pagani Huayra Roadster BC                 $3.5 Million\n",
       "33          Bugatti Chiron Pur Sport          Price: $3.5 Million\n",
       "34                  Lamborghini Sian          Price: $3.6 Million\n",
       "35                  Koenigsegg CC850          Price: $3.6 million\n",
       "36   Bugatti Chiron Super Sport 300+          Price: $3.7 Million\n",
       "37                Lamborghini Veneno          Price: $3.9 Million\n",
       "38                    Bugatti Bolide          Price: $4.5 Million\n",
       "39                   Bugatti Mistral          Price: $4.7 Million\n",
       "40               Pagani Huayra Imola          Price: $5.0 Million\n",
       "41                      Bugatti Divo          Price: $5.4 Million\n",
       "42               SP Automotive Chaos          Price: $5.8 Million\n",
       "43                  Pagani Codalunga          Price: $6.4 Million\n",
       "44          Mercedes-Maybach Exelero          Price: $7.4 Million\n",
       "45                Bugatti Centodieci          Price: $8.0 Million\n",
       "46           Bugatti Chiron Profilée          Price: $9.0 Million\n",
       "47              Rolls-Royce Sweptail         Price: $10.8 Million\n",
       "48          Bugatti La Voiture Noire         Price: $12.8 Million\n",
       "49            Rolls-Royce Boat Tail*         Price: $13.4 Million\n",
       "50  Most Expensive Cars In The World  Price: $28.0 Million (est.)"
      ]
     },
     "execution_count": 157,
     "metadata": {},
     "output_type": "execute_result"
    }
   ],
   "source": [
    "#output in dataframe\n",
    "d5=pd.DataFrame({\"name\":name,\"price\":price})  \n",
    "d5"
   ]
  },
  {
   "cell_type": "code",
   "execution_count": null,
   "id": "35beb6a9",
   "metadata": {},
   "outputs": [],
   "source": []
  },
  {
   "cell_type": "code",
   "execution_count": null,
   "id": "f0ab353b",
   "metadata": {},
   "outputs": [],
   "source": []
  },
  {
   "cell_type": "code",
   "execution_count": null,
   "id": "e8c1466e",
   "metadata": {},
   "outputs": [],
   "source": []
  }
 ],
 "metadata": {
  "kernelspec": {
   "display_name": "Python 3 (ipykernel)",
   "language": "python",
   "name": "python3"
  },
  "language_info": {
   "codemirror_mode": {
    "name": "ipython",
    "version": 3
   },
   "file_extension": ".py",
   "mimetype": "text/x-python",
   "name": "python",
   "nbconvert_exporter": "python",
   "pygments_lexer": "ipython3",
   "version": "3.9.12"
  }
 },
 "nbformat": 4,
 "nbformat_minor": 5
}
